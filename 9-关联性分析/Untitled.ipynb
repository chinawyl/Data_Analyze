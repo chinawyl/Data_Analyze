{
 "cells": [
  {
   "cell_type": "code",
   "execution_count": 5,
   "metadata": {},
   "outputs": [],
   "source": [
    "import numpy as np\n",
    "import pandas as pd\n",
    "import matplotlib.pyplot as plt4\n",
    "import Apriori"
   ]
  },
  {
   "cell_type": "code",
   "execution_count": 6,
   "metadata": {},
   "outputs": [],
   "source": [
    "data = pd.read_excel('./关联规则数据/menu_orders.xls')"
   ]
  },
  {
   "cell_type": "code",
   "execution_count": 7,
   "metadata": {},
   "outputs": [
    {
     "data": {
      "text/html": [
       "<div>\n",
       "<style scoped>\n",
       "    .dataframe tbody tr th:only-of-type {\n",
       "        vertical-align: middle;\n",
       "    }\n",
       "\n",
       "    .dataframe tbody tr th {\n",
       "        vertical-align: top;\n",
       "    }\n",
       "\n",
       "    .dataframe thead th {\n",
       "        text-align: right;\n",
       "    }\n",
       "</style>\n",
       "<table border=\"1\" class=\"dataframe\">\n",
       "  <thead>\n",
       "    <tr style=\"text-align: right;\">\n",
       "      <th></th>\n",
       "      <th>a</th>\n",
       "      <th>c</th>\n",
       "      <th>e</th>\n",
       "      <th>Unnamed: 3</th>\n",
       "    </tr>\n",
       "  </thead>\n",
       "  <tbody>\n",
       "    <tr>\n",
       "      <th>0</th>\n",
       "      <td>b</td>\n",
       "      <td>d</td>\n",
       "      <td>NaN</td>\n",
       "      <td>NaN</td>\n",
       "    </tr>\n",
       "    <tr>\n",
       "      <th>1</th>\n",
       "      <td>b</td>\n",
       "      <td>c</td>\n",
       "      <td>NaN</td>\n",
       "      <td>NaN</td>\n",
       "    </tr>\n",
       "    <tr>\n",
       "      <th>2</th>\n",
       "      <td>a</td>\n",
       "      <td>b</td>\n",
       "      <td>c</td>\n",
       "      <td>d</td>\n",
       "    </tr>\n",
       "    <tr>\n",
       "      <th>3</th>\n",
       "      <td>a</td>\n",
       "      <td>b</td>\n",
       "      <td>NaN</td>\n",
       "      <td>NaN</td>\n",
       "    </tr>\n",
       "    <tr>\n",
       "      <th>4</th>\n",
       "      <td>b</td>\n",
       "      <td>c</td>\n",
       "      <td>NaN</td>\n",
       "      <td>NaN</td>\n",
       "    </tr>\n",
       "  </tbody>\n",
       "</table>\n",
       "</div>"
      ],
      "text/plain": [
       "   a  c    e Unnamed: 3\n",
       "0  b  d  NaN        NaN\n",
       "1  b  c  NaN        NaN\n",
       "2  a  b    c          d\n",
       "3  a  b  NaN        NaN\n",
       "4  b  c  NaN        NaN"
      ]
     },
     "execution_count": 7,
     "metadata": {},
     "output_type": "execute_result"
    }
   ],
   "source": [
    "data.head()"
   ]
  },
  {
   "cell_type": "code",
   "execution_count": 8,
   "metadata": {},
   "outputs": [
    {
     "name": "stdout",
     "output_type": "stream",
     "text": [
      "frozenset({'e'}) --> frozenset({'c'}) 支持度 0.3 置信度： 1.0 lift值为： 1.428571\n",
      "frozenset({'e'}) --> frozenset({'a'}) 支持度 0.3 置信度： 1.0 lift值为： 1.428571\n",
      "frozenset({'c'}) --> frozenset({'a'}) 支持度 0.5 置信度： 0.714286 lift值为： 1.020408\n",
      "frozenset({'a'}) --> frozenset({'c'}) 支持度 0.5 置信度： 0.714286 lift值为： 1.020408\n",
      "frozenset({'a', 'c'}) --> frozenset({'e'}) 支持度 0.3 置信度： 0.6 lift值为： 2.0\n",
      "frozenset({'a', 'e'}) --> frozenset({'c'}) 支持度 0.3 置信度： 1.0 lift值为： 1.428571\n",
      "frozenset({'c', 'e'}) --> frozenset({'a'}) 支持度 0.3 置信度： 1.0 lift值为： 1.428571\n",
      "frozenset({'e'}) --> frozenset({'a', 'c'}) 支持度 0.3 置信度： 1.0 lift值为： 2.0\n"
     ]
    }
   ],
   "source": [
    "dataSet = Apriori.loadDataSet()\n",
    "L,supperData = Apriori.apriori(dataSet,minSupport=0.3)\n",
    "rule = Apriori.gen_rule(L,supperData,minConf=0.5)"
   ]
  },
  {
   "cell_type": "code",
   "execution_count": null,
   "metadata": {},
   "outputs": [],
   "source": []
  }
 ],
 "metadata": {
  "kernelspec": {
   "display_name": "Python 3",
   "language": "python",
   "name": "python3"
  },
  "language_info": {
   "codemirror_mode": {
    "name": "ipython",
    "version": 3
   },
   "file_extension": ".py",
   "mimetype": "text/x-python",
   "name": "python",
   "nbconvert_exporter": "python",
   "pygments_lexer": "ipython3",
   "version": "3.7.3"
  }
 },
 "nbformat": 4,
 "nbformat_minor": 2
}
