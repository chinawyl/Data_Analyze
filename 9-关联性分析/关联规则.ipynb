{
 "cells": [
  {
   "cell_type": "code",
   "execution_count": 3,
   "metadata": {},
   "outputs": [],
   "source": [
    "import pandas as pd \n",
    "import Apriori\n",
    "import matplotlib.pyplot as plt\n",
    "plt.rcParams['font.sans-serif'] = ['SimHei']"
   ]
  },
  {
   "cell_type": "code",
   "execution_count": 6,
   "metadata": {},
   "outputs": [],
   "source": [
    "dataSet = Apriori.loadDataSet()"
   ]
  },
  {
   "cell_type": "code",
   "execution_count": 7,
   "metadata": {},
   "outputs": [
    {
     "data": {
      "text/plain": [
       "[['a', 'c', 'e'],\n",
       " ['b', 'd'],\n",
       " ['b', 'c'],\n",
       " ['a', 'b', 'c', 'd'],\n",
       " ['a', 'b'],\n",
       " ['b', 'c'],\n",
       " ['a', 'b'],\n",
       " ['a', 'b', 'c', 'e'],\n",
       " ['a', 'b', 'c'],\n",
       " ['a', 'c', 'e']]"
      ]
     },
     "execution_count": 7,
     "metadata": {},
     "output_type": "execute_result"
    }
   ],
   "source": [
    "dataSet"
   ]
  },
  {
   "cell_type": "code",
   "execution_count": 11,
   "metadata": {},
   "outputs": [],
   "source": [
    "L,supportData = Apriori.apriori(dataSet,minSupport=0.3)"
   ]
  },
  {
   "cell_type": "code",
   "execution_count": 12,
   "metadata": {},
   "outputs": [
    {
     "name": "stdout",
     "output_type": "stream",
     "text": [
      "frozenset({'e'}) --> frozenset({'c'}) 支持度 0.3 置信度： 1.0 lift值为： 1.428571\n",
      "frozenset({'e'}) --> frozenset({'a'}) 支持度 0.3 置信度： 1.0 lift值为： 1.428571\n",
      "frozenset({'a'}) --> frozenset({'c'}) 支持度 0.5 置信度： 0.714286 lift值为： 1.020408\n",
      "frozenset({'c'}) --> frozenset({'a'}) 支持度 0.5 置信度： 0.714286 lift值为： 1.020408\n",
      "frozenset({'e'}) --> frozenset({'a', 'c'}) 支持度 0.3 置信度： 1.0 lift值为： 2.0\n",
      "frozenset({'a', 'e'}) --> frozenset({'c'}) 支持度 0.3 置信度： 1.0 lift值为： 1.428571\n",
      "frozenset({'e', 'c'}) --> frozenset({'a'}) 支持度 0.3 置信度： 1.0 lift值为： 1.428571\n",
      "frozenset({'a', 'c'}) --> frozenset({'e'}) 支持度 0.3 置信度： 0.6 lift值为： 2.0\n"
     ]
    }
   ],
   "source": [
    "rule = Apriori.gen_rule(L,supportData,minConf=0.5)"
   ]
  },
  {
   "cell_type": "code",
   "execution_count": 13,
   "metadata": {},
   "outputs": [
    {
     "data": {
      "text/plain": [
       "[['a', 'c', 'e'],\n",
       " ['b', 'd'],\n",
       " ['b', 'c'],\n",
       " ['a', 'b', 'c', 'd'],\n",
       " ['a', 'b'],\n",
       " ['b', 'c'],\n",
       " ['a', 'b'],\n",
       " ['a', 'b', 'c', 'e'],\n",
       " ['a', 'b', 'c'],\n",
       " ['a', 'c', 'e']]"
      ]
     },
     "execution_count": 13,
     "metadata": {},
     "output_type": "execute_result"
    }
   ],
   "source": [
    "dataSet"
   ]
  },
  {
   "cell_type": "code",
   "execution_count": 16,
   "metadata": {},
   "outputs": [],
   "source": [
    "df = pd.read_csv('pandas_data/Aprior/GoodsOrder.csv',encoding='gbk')"
   ]
  },
  {
   "cell_type": "code",
   "execution_count": 21,
   "metadata": {},
   "outputs": [
    {
     "data": {
      "text/plain": [
       "9835"
      ]
     },
     "execution_count": 21,
     "metadata": {},
     "output_type": "execute_result"
    }
   ],
   "source": [
    "len(df.drop_duplicates('id'))"
   ]
  },
  {
   "cell_type": "code",
   "execution_count": 23,
   "metadata": {},
   "outputs": [],
   "source": [
    "top = df['Goods'].value_counts()#统计次数"
   ]
  },
  {
   "cell_type": "code",
   "execution_count": 35,
   "metadata": {},
   "outputs": [],
   "source": [
    "index = top.head(10).index\n",
    "labels = top.head(10).values"
   ]
  },
  {
   "cell_type": "code",
   "execution_count": 36,
   "metadata": {},
   "outputs": [
    {
     "data": {
      "text/plain": [
       "<BarContainer object of 10 artists>"
      ]
     },
     "execution_count": 36,
     "metadata": {},
     "output_type": "execute_result"
    },
    {
     "data": {
      "image/png": "[encoded data removed]",
      "text/plain": [
       "<Figure size 432x288 with 1 Axes>"
      ]
     },
     "metadata": {
      "needs_background": "light"
     },
     "output_type": "display_data"
    }
   ],
   "source": [
    "plt.barh(index,labels)"
   ]
  },
  {
   "cell_type": "code",
   "execution_count": 4,
   "metadata": {},
   "outputs": [],
   "source": [
    "df = pd.read_csv('pandas_data/AprioriRuler/Data_Basket.csv')"
   ]
  },
  {
   "cell_type": "code",
   "execution_count": 5,
   "metadata": {},
   "outputs": [
    {
     "data": {
      "text/html": [
       "<div>\n",
       "<style scoped>\n",
       "    .dataframe tbody tr th:only-of-type {\n",
       "        vertical-align: middle;\n",
       "    }\n",
       "\n",
       "    .dataframe tbody tr th {\n",
       "        vertical-align: top;\n",
       "    }\n",
       "\n",
       "    .dataframe thead th {\n",
       "        text-align: right;\n",
       "    }\n",
       "</style>\n",
       "<table border=\"1\" class=\"dataframe\">\n",
       "  <thead>\n",
       "    <tr style=\"text-align: right;\">\n",
       "      <th></th>\n",
       "      <th>Card num.</th>\n",
       "      <th>Amount</th>\n",
       "      <th>Payment</th>\n",
       "      <th>Gender</th>\n",
       "      <th>Tenant</th>\n",
       "      <th>Income</th>\n",
       "      <th>Age</th>\n",
       "      <th>Fruits &amp; vegetables</th>\n",
       "      <th>Meat</th>\n",
       "      <th>Milk products</th>\n",
       "      <th>Canned vegetables</th>\n",
       "      <th>Canned meat</th>\n",
       "      <th>Frozen goods</th>\n",
       "      <th>Beer</th>\n",
       "      <th>Wine</th>\n",
       "      <th>Soda drinks</th>\n",
       "      <th>Fish</th>\n",
       "      <th>Textile</th>\n",
       "    </tr>\n",
       "  </thead>\n",
       "  <tbody>\n",
       "    <tr>\n",
       "      <th>0</th>\n",
       "      <td>39808</td>\n",
       "      <td>427.12</td>\n",
       "      <td>Cheque</td>\n",
       "      <td>M</td>\n",
       "      <td>Yes</td>\n",
       "      <td>270000</td>\n",
       "      <td>46</td>\n",
       "      <td>No</td>\n",
       "      <td>Yes</td>\n",
       "      <td>Yes</td>\n",
       "      <td>No</td>\n",
       "      <td>No</td>\n",
       "      <td>No</td>\n",
       "      <td>No</td>\n",
       "      <td>No</td>\n",
       "      <td>No</td>\n",
       "      <td>No</td>\n",
       "      <td>Yes</td>\n",
       "    </tr>\n",
       "    <tr>\n",
       "      <th>1</th>\n",
       "      <td>67362</td>\n",
       "      <td>253.56</td>\n",
       "      <td>Cash</td>\n",
       "      <td>F</td>\n",
       "      <td>Yes</td>\n",
       "      <td>300000</td>\n",
       "      <td>28</td>\n",
       "      <td>No</td>\n",
       "      <td>Yes</td>\n",
       "      <td>No</td>\n",
       "      <td>No</td>\n",
       "      <td>No</td>\n",
       "      <td>No</td>\n",
       "      <td>No</td>\n",
       "      <td>No</td>\n",
       "      <td>No</td>\n",
       "      <td>No</td>\n",
       "      <td>Yes</td>\n",
       "    </tr>\n",
       "    <tr>\n",
       "      <th>2</th>\n",
       "      <td>10872</td>\n",
       "      <td>206.17</td>\n",
       "      <td>Cash</td>\n",
       "      <td>M</td>\n",
       "      <td>Yes</td>\n",
       "      <td>132000</td>\n",
       "      <td>36</td>\n",
       "      <td>No</td>\n",
       "      <td>No</td>\n",
       "      <td>No</td>\n",
       "      <td>Yes</td>\n",
       "      <td>No</td>\n",
       "      <td>Yes</td>\n",
       "      <td>Yes</td>\n",
       "      <td>No</td>\n",
       "      <td>No</td>\n",
       "      <td>Yes</td>\n",
       "      <td>No</td>\n",
       "    </tr>\n",
       "    <tr>\n",
       "      <th>3</th>\n",
       "      <td>26748</td>\n",
       "      <td>236.88</td>\n",
       "      <td>Card</td>\n",
       "      <td>F</td>\n",
       "      <td>Yes</td>\n",
       "      <td>122000</td>\n",
       "      <td>26</td>\n",
       "      <td>No</td>\n",
       "      <td>No</td>\n",
       "      <td>Yes</td>\n",
       "      <td>No</td>\n",
       "      <td>No</td>\n",
       "      <td>No</td>\n",
       "      <td>No</td>\n",
       "      <td>Yes</td>\n",
       "      <td>No</td>\n",
       "      <td>No</td>\n",
       "      <td>No</td>\n",
       "    </tr>\n",
       "    <tr>\n",
       "      <th>4</th>\n",
       "      <td>91609</td>\n",
       "      <td>188.13</td>\n",
       "      <td>Card</td>\n",
       "      <td>M</td>\n",
       "      <td>No</td>\n",
       "      <td>110000</td>\n",
       "      <td>24</td>\n",
       "      <td>No</td>\n",
       "      <td>No</td>\n",
       "      <td>No</td>\n",
       "      <td>No</td>\n",
       "      <td>No</td>\n",
       "      <td>No</td>\n",
       "      <td>No</td>\n",
       "      <td>No</td>\n",
       "      <td>No</td>\n",
       "      <td>No</td>\n",
       "      <td>No</td>\n",
       "    </tr>\n",
       "  </tbody>\n",
       "</table>\n",
       "</div>"
      ],
      "text/plain": [
       "   Card num.  Amount Payment Gender Tenant  Income  Age Fruits & vegetables  \\\n",
       "0      39808  427.12  Cheque      M    Yes  270000   46                  No   \n",
       "1      67362  253.56    Cash      F    Yes  300000   28                  No   \n",
       "2      10872  206.17    Cash      M    Yes  132000   36                  No   \n",
       "3      26748  236.88    Card      F    Yes  122000   26                  No   \n",
       "4      91609  188.13    Card      M     No  110000   24                  No   \n",
       "\n",
       "  Meat Milk products Canned vegetables Canned meat Frozen goods Beer Wine  \\\n",
       "0  Yes           Yes                No          No           No   No   No   \n",
       "1  Yes            No                No          No           No   No   No   \n",
       "2   No            No               Yes          No          Yes  Yes   No   \n",
       "3   No           Yes                No          No           No   No  Yes   \n",
       "4   No            No                No          No           No   No   No   \n",
       "\n",
       "  Soda drinks Fish Textile  \n",
       "0          No   No     Yes  \n",
       "1          No   No     Yes  \n",
       "2          No  Yes      No  \n",
       "3          No   No      No  \n",
       "4          No   No      No  "
      ]
     },
     "execution_count": 5,
     "metadata": {},
     "output_type": "execute_result"
    }
   ],
   "source": [
    "df.head()"
   ]
  },
  {
   "cell_type": "code",
   "execution_count": 10,
   "metadata": {},
   "outputs": [],
   "source": [
    "df = df.iloc[:,7:]"
   ]
  },
  {
   "cell_type": "code",
   "execution_count": 11,
   "metadata": {},
   "outputs": [
    {
     "data": {
      "text/html": [
       "<div>\n",
       "<style scoped>\n",
       "    .dataframe tbody tr th:only-of-type {\n",
       "        vertical-align: middle;\n",
       "    }\n",
       "\n",
       "    .dataframe tbody tr th {\n",
       "        vertical-align: top;\n",
       "    }\n",
       "\n",
       "    .dataframe thead th {\n",
       "        text-align: right;\n",
       "    }\n",
       "</style>\n",
       "<table border=\"1\" class=\"dataframe\">\n",
       "  <thead>\n",
       "    <tr style=\"text-align: right;\">\n",
       "      <th></th>\n",
       "      <th>Fruits &amp; vegetables</th>\n",
       "      <th>Meat</th>\n",
       "      <th>Milk products</th>\n",
       "      <th>Canned vegetables</th>\n",
       "      <th>Canned meat</th>\n",
       "      <th>Frozen goods</th>\n",
       "      <th>Beer</th>\n",
       "      <th>Wine</th>\n",
       "      <th>Soda drinks</th>\n",
       "      <th>Fish</th>\n",
       "      <th>Textile</th>\n",
       "    </tr>\n",
       "  </thead>\n",
       "  <tbody>\n",
       "    <tr>\n",
       "      <th>0</th>\n",
       "      <td>No</td>\n",
       "      <td>Yes</td>\n",
       "      <td>Yes</td>\n",
       "      <td>No</td>\n",
       "      <td>No</td>\n",
       "      <td>No</td>\n",
       "      <td>No</td>\n",
       "      <td>No</td>\n",
       "      <td>No</td>\n",
       "      <td>No</td>\n",
       "      <td>Yes</td>\n",
       "    </tr>\n",
       "    <tr>\n",
       "      <th>1</th>\n",
       "      <td>No</td>\n",
       "      <td>Yes</td>\n",
       "      <td>No</td>\n",
       "      <td>No</td>\n",
       "      <td>No</td>\n",
       "      <td>No</td>\n",
       "      <td>No</td>\n",
       "      <td>No</td>\n",
       "      <td>No</td>\n",
       "      <td>No</td>\n",
       "      <td>Yes</td>\n",
       "    </tr>\n",
       "    <tr>\n",
       "      <th>2</th>\n",
       "      <td>No</td>\n",
       "      <td>No</td>\n",
       "      <td>No</td>\n",
       "      <td>Yes</td>\n",
       "      <td>No</td>\n",
       "      <td>Yes</td>\n",
       "      <td>Yes</td>\n",
       "      <td>No</td>\n",
       "      <td>No</td>\n",
       "      <td>Yes</td>\n",
       "      <td>No</td>\n",
       "    </tr>\n",
       "    <tr>\n",
       "      <th>3</th>\n",
       "      <td>No</td>\n",
       "      <td>No</td>\n",
       "      <td>Yes</td>\n",
       "      <td>No</td>\n",
       "      <td>No</td>\n",
       "      <td>No</td>\n",
       "      <td>No</td>\n",
       "      <td>Yes</td>\n",
       "      <td>No</td>\n",
       "      <td>No</td>\n",
       "      <td>No</td>\n",
       "    </tr>\n",
       "    <tr>\n",
       "      <th>4</th>\n",
       "      <td>No</td>\n",
       "      <td>No</td>\n",
       "      <td>No</td>\n",
       "      <td>No</td>\n",
       "      <td>No</td>\n",
       "      <td>No</td>\n",
       "      <td>No</td>\n",
       "      <td>No</td>\n",
       "      <td>No</td>\n",
       "      <td>No</td>\n",
       "      <td>No</td>\n",
       "    </tr>\n",
       "  </tbody>\n",
       "</table>\n",
       "</div>"
      ],
      "text/plain": [
       "  Fruits & vegetables Meat Milk products Canned vegetables Canned meat  \\\n",
       "0                  No  Yes           Yes                No          No   \n",
       "1                  No  Yes            No                No          No   \n",
       "2                  No   No            No               Yes          No   \n",
       "3                  No   No           Yes                No          No   \n",
       "4                  No   No            No                No          No   \n",
       "\n",
       "  Frozen goods Beer Wine Soda drinks Fish Textile  \n",
       "0           No   No   No          No   No     Yes  \n",
       "1           No   No   No          No   No     Yes  \n",
       "2          Yes  Yes   No          No  Yes      No  \n",
       "3           No   No  Yes          No   No      No  \n",
       "4           No   No   No          No   No      No  "
      ]
     },
     "execution_count": 11,
     "metadata": {},
     "output_type": "execute_result"
    }
   ],
   "source": [
    "df.head()"
   ]
  },
  {
   "cell_type": "code",
   "execution_count": 60,
   "metadata": {},
   "outputs": [],
   "source": [
    "shop = {x:y for y,x in zip(df.columns,range(len(df.columns)))}"
   ]
  },
  {
   "cell_type": "code",
   "execution_count": 70,
   "metadata": {},
   "outputs": [],
   "source": [
    "shop_list = []\n",
    "for i in df.iterrows():\n",
    "    s_list2 = []\n",
    "    for j,k in zip(i[1],range(11)):\n",
    "        if j=='Yes':\n",
    "            s_list2.append(shop[k])\n",
    "            shop_list.append(s_list2)\n"
   ]
  },
  {
   "cell_type": "code",
   "execution_count": 91,
   "metadata": {},
   "outputs": [],
   "source": [
    "temp = []\n",
    "for i in shop_list:\n",
    "    if i not in temp:\n",
    "        temp.append(i)\n",
    "    "
   ]
  },
  {
   "cell_type": "code",
   "execution_count": 1,
   "metadata": {},
   "outputs": [
    {
     "ename": "NameError",
     "evalue": "name 'df' is not defined",
     "output_type": "error",
     "traceback": [
      "\u001b[1;31m---------------------------------------------------------------------------\u001b[0m",
      "\u001b[1;31mNameError\u001b[0m                                 Traceback (most recent call last)",
      "\u001b[1;32m<ipython-input-1-c42a15b2c7cf>\u001b[0m in \u001b[0;36m<module>\u001b[1;34m\u001b[0m\n\u001b[1;32m----> 1\u001b[1;33m \u001b[0mdf\u001b[0m\u001b[1;33m.\u001b[0m\u001b[0mhead\u001b[0m\u001b[1;33m(\u001b[0m\u001b[1;33m)\u001b[0m\u001b[1;33m\u001b[0m\u001b[1;33m\u001b[0m\u001b[0m\n\u001b[0m",
      "\u001b[1;31mNameError\u001b[0m: name 'df' is not defined"
     ]
    }
   ],
   "source": []
  },
  {
   "cell_type": "code",
   "execution_count": 93,
   "metadata": {},
   "outputs": [],
   "source": [
    "L,supportData = Apriori.apriori(temp,minSupport=0.1)\n"
   ]
  },
  {
   "cell_type": "code",
   "execution_count": 94,
   "metadata": {},
   "outputs": [
    {
     "name": "stdout",
     "output_type": "stream",
     "text": [
      "frozenset({'Fruits & vegetables'}) --> frozenset({'Fish'}) 支持度 0.208108 置信度： 0.516779 lift值为： 1.327834\n",
      "frozenset({'Fish'}) --> frozenset({'Fruits & vegetables'}) 支持度 0.208108 置信度： 0.534722 lift值为： 1.327834\n",
      "frozenset({'Frozen goods'}) --> frozenset({'Canned vegetables'}) 支持度 0.202703 置信度： 0.513699 lift值为： 1.250451\n",
      "frozenset({'Frozen goods'}) --> frozenset({'Beer'}) 支持度 0.2 置信度： 0.506849 lift值为： 1.389143\n",
      "frozenset({'Beer'}) --> frozenset({'Frozen goods'}) 支持度 0.2 置信度： 0.548148 lift值为： 1.389143\n",
      "frozenset({'Beer'}) --> frozenset({'Canned vegetables'}) 支持度 0.2 置信度： 0.548148 lift值为： 1.334308\n",
      "frozenset({'Frozen goods', 'Beer'}) --> frozenset({'Canned vegetables'}) 支持度 0.151351 置信度： 0.756757 lift值为： 1.842105\n",
      "frozenset({'Frozen goods', 'Canned vegetables'}) --> frozenset({'Beer'}) 支持度 0.151351 置信度： 0.746667 lift值为： 2.04642\n",
      "frozenset({'Beer', 'Canned vegetables'}) --> frozenset({'Frozen goods'}) 支持度 0.151351 置信度： 0.756757 lift值为： 1.917808\n"
     ]
    }
   ],
   "source": [
    "rule = Apriori.gen_rule(L,supportData,minConf=0.5)"
   ]
  },
  {
   "cell_type": "code",
   "execution_count": null,
   "metadata": {},
   "outputs": [],
   "source": []
  }
 ],
 "metadata": {
  "kernelspec": {
   "display_name": "Python 3",
   "language": "python",
   "name": "python3"
  },
  "language_info": {
   "codemirror_mode": {
    "name": "ipython",
    "version": 3
   },
   "file_extension": ".py",
   "mimetype": "text/x-python",
   "name": "python",
   "nbconvert_exporter": "python",
   "pygments_lexer": "ipython3",
   "version": "3.7.3"
  }
 },
 "nbformat": 4,
 "nbformat_minor": 2
}
