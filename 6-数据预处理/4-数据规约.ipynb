{
 "cells": [
  {
   "cell_type": "code",
   "execution_count": 1,
   "metadata": {},
   "outputs": [],
   "source": [
    "import numpy as np\n",
    "import pandas as pd\n",
    "import matplotlib.pyplot as plt\n",
    "from sklearn.decomposition import PCA\n",
    "plt.rcParams['font.sans-serif'] = ['SimHei']\n",
    "plt.rcParams['axes.unicode_minus'] = False"
   ]
  },
  {
   "cell_type": "code",
   "execution_count": 2,
   "metadata": {},
   "outputs": [],
   "source": [
    "# 1.降维与主成分分析\n",
    "\n",
    "\n"
   ]
  },
  {
   "cell_type": "code",
   "execution_count": 3,
   "metadata": {},
   "outputs": [],
   "source": [
    "data = pd.read_excel('../实验数据/城市经济指标分析.xls',index_col=0)"
   ]
  },
  {
   "cell_type": "code",
   "execution_count": 4,
   "metadata": {},
   "outputs": [
    {
     "data": {
      "text/html": [
       "<div>\n",
       "<style scoped>\n",
       "    .dataframe tbody tr th:only-of-type {\n",
       "        vertical-align: middle;\n",
       "    }\n",
       "\n",
       "    .dataframe tbody tr th {\n",
       "        vertical-align: top;\n",
       "    }\n",
       "\n",
       "    .dataframe thead th {\n",
       "        text-align: right;\n",
       "    }\n",
       "</style>\n",
       "<table border=\"1\" class=\"dataframe\">\n",
       "  <thead>\n",
       "    <tr style=\"text-align: right;\">\n",
       "      <th></th>\n",
       "      <th>人均GDP</th>\n",
       "      <th>新增固定资产</th>\n",
       "      <th>城镇居民人均年可支配收入</th>\n",
       "      <th>农村居民机家庭纯收入</th>\n",
       "      <th>高等学校数量</th>\n",
       "      <th>卫生机构数量</th>\n",
       "    </tr>\n",
       "    <tr>\n",
       "      <th>地区</th>\n",
       "      <th></th>\n",
       "      <th></th>\n",
       "      <th></th>\n",
       "      <th></th>\n",
       "      <th></th>\n",
       "      <th></th>\n",
       "    </tr>\n",
       "  </thead>\n",
       "  <tbody>\n",
       "    <tr>\n",
       "      <th>上 海</th>\n",
       "      <td>15204</td>\n",
       "      <td>128.93</td>\n",
       "      <td>7191</td>\n",
       "      <td>4245</td>\n",
       "      <td>45</td>\n",
       "      <td>5286</td>\n",
       "    </tr>\n",
       "    <tr>\n",
       "      <th>北 京</th>\n",
       "      <td>10265</td>\n",
       "      <td>30.81</td>\n",
       "      <td>6235</td>\n",
       "      <td>3223</td>\n",
       "      <td>65</td>\n",
       "      <td>4955</td>\n",
       "    </tr>\n",
       "    <tr>\n",
       "      <th>天 津</th>\n",
       "      <td>8164</td>\n",
       "      <td>49.13</td>\n",
       "      <td>4929</td>\n",
       "      <td>2406</td>\n",
       "      <td>21</td>\n",
       "      <td>3182</td>\n",
       "    </tr>\n",
       "    <tr>\n",
       "      <th>广 东</th>\n",
       "      <td>6380</td>\n",
       "      <td>51.82</td>\n",
       "      <td>7438</td>\n",
       "      <td>2699</td>\n",
       "      <td>42</td>\n",
       "      <td>8848</td>\n",
       "    </tr>\n",
       "    <tr>\n",
       "      <th>浙 江</th>\n",
       "      <td>6149</td>\n",
       "      <td>41.88</td>\n",
       "      <td>6221</td>\n",
       "      <td>2966</td>\n",
       "      <td>37</td>\n",
       "      <td>8721</td>\n",
       "    </tr>\n",
       "  </tbody>\n",
       "</table>\n",
       "</div>"
      ],
      "text/plain": [
       "          人均GDP  新增固定资产  城镇居民人均年可支配收入  农村居民机家庭纯收入  高等学校数量  卫生机构数量\n",
       "地区                                                               \n",
       "上 海       15204  128.93          7191        4245      45    5286\n",
       "北 京       10265   30.81          6235        3223      65    4955\n",
       "天 津        8164   49.13          4929        2406      21    3182\n",
       "广 东        6380   51.82          7438        2699      42    8848\n",
       "浙 江        6149   41.88          6221        2966      37    8721"
      ]
     },
     "execution_count": 4,
     "metadata": {},
     "output_type": "execute_result"
    }
   ],
   "source": [
    "data.head()"
   ]
  },
  {
   "cell_type": "code",
   "execution_count": 5,
   "metadata": {},
   "outputs": [
    {
     "data": {
      "text/plain": [
       "PCA(copy=True, iterated_power='auto', n_components=None, random_state=None,\n",
       "  svd_solver='auto', tol=0.0, whiten=False)"
      ]
     },
     "execution_count": 5,
     "metadata": {},
     "output_type": "execute_result"
    }
   ],
   "source": [
    "pca = PCA()\n",
    "pca.fit(data)"
   ]
  },
  {
   "cell_type": "code",
   "execution_count": 6,
   "metadata": {},
   "outputs": [
    {
     "data": {
      "text/plain": [
       "array([[-1.09987691e-01,  4.80909247e-03,  2.43226961e-02,\n",
       "         4.10228391e-03,  3.45773926e-03,  9.93609180e-01],\n",
       "       [ 9.13415352e-01,  5.46296915e-03,  3.13244095e-01,\n",
       "         2.42852236e-01,  2.14159713e-03,  9.24061296e-02],\n",
       "       [-3.42659686e-01, -1.73950883e-02,  9.30559819e-01,\n",
       "         1.12195451e-01, -4.74274724e-03, -6.10725790e-02],\n",
       "       [-1.89766941e-01, -8.86487255e-03, -1.87487724e-01,\n",
       "         9.63446240e-01,  1.06732600e-02, -2.03887248e-02],\n",
       "       [-1.21513412e-02,  9.98423294e-01,  1.29774789e-02,\n",
       "         8.59935465e-03,  5.21138703e-02, -6.71202369e-03],\n",
       "       [-5.43101494e-04, -5.21227323e-02,  4.99042783e-03,\n",
       "        -1.07488487e-02,  9.98564565e-01, -3.36061022e-03]])"
      ]
     },
     "execution_count": 6,
     "metadata": {},
     "output_type": "execute_result"
    }
   ],
   "source": [
    "pca.components_ #查看新旧指标对应关系"
   ]
  },
  {
   "cell_type": "code",
   "execution_count": 7,
   "metadata": {},
   "outputs": [
    {
     "data": {
      "text/plain": [
       "array([1.35028294e+07, 9.71394734e+06, 4.96242026e+05, 4.26027446e+04,\n",
       "       3.67620273e+02, 8.95640940e+01])"
      ]
     },
     "execution_count": 7,
     "metadata": {},
     "output_type": "execute_result"
    }
   ],
   "source": [
    "pca.explained_variance_ #查看降维后每个新特征向量上所带的信息量大小（可解释性方差的大小）"
   ]
  },
  {
   "cell_type": "code",
   "execution_count": 8,
   "metadata": {},
   "outputs": [
    {
     "data": {
      "text/plain": [
       "array([0.56839471, 0.97729836, 0.99818741, 0.99998076, 0.99999623,\n",
       "       1.        ])"
      ]
     },
     "execution_count": 8,
     "metadata": {},
     "output_type": "execute_result"
    }
   ],
   "source": [
    "np.cumsum(pca.explained_variance_ratio_) #查看降维后每个新特征向量所占的信息量占原始数据总信息量的百分比"
   ]
  },
  {
   "cell_type": "code",
   "execution_count": 9,
   "metadata": {},
   "outputs": [
    {
     "data": {
      "text/plain": [
       "PCA(copy=True, iterated_power='auto', n_components=2, random_state=None,\n",
       "  svd_solver='auto', tol=0.0, whiten=False)"
      ]
     },
     "execution_count": 9,
     "metadata": {},
     "output_type": "execute_result"
    }
   ],
   "source": [
    "#取前两个坐标系\n",
    "pca = PCA(2)\n",
    "pca.fit(data)"
   ]
  },
  {
   "cell_type": "code",
   "execution_count": 10,
   "metadata": {},
   "outputs": [
    {
     "data": {
      "text/plain": [
       "array([[-0.10998769,  0.00480909,  0.0243227 ,  0.00410228,  0.00345774,\n",
       "         0.99360918],\n",
       "       [ 0.91341535,  0.00546297,  0.31324409,  0.24285224,  0.0021416 ,\n",
       "         0.09240613]])"
      ]
     },
     "execution_count": 10,
     "metadata": {},
     "output_type": "execute_result"
    }
   ],
   "source": [
    "pca.components_ #V(k,n)"
   ]
  },
  {
   "cell_type": "code",
   "execution_count": 11,
   "metadata": {},
   "outputs": [
    {
     "data": {
      "text/html": [
       "<div>\n",
       "<style scoped>\n",
       "    .dataframe tbody tr th:only-of-type {\n",
       "        vertical-align: middle;\n",
       "    }\n",
       "\n",
       "    .dataframe tbody tr th {\n",
       "        vertical-align: top;\n",
       "    }\n",
       "\n",
       "    .dataframe thead th {\n",
       "        text-align: right;\n",
       "    }\n",
       "</style>\n",
       "<table border=\"1\" class=\"dataframe\">\n",
       "  <thead>\n",
       "    <tr style=\"text-align: right;\">\n",
       "      <th></th>\n",
       "      <th>公共服务</th>\n",
       "      <th>经济收入</th>\n",
       "    </tr>\n",
       "    <tr>\n",
       "      <th>地区</th>\n",
       "      <th></th>\n",
       "      <th></th>\n",
       "    </tr>\n",
       "  </thead>\n",
       "  <tbody>\n",
       "    <tr>\n",
       "      <th>上 海</th>\n",
       "      <td>-2328.926674</td>\n",
       "      <td>11318.965632</td>\n",
       "    </tr>\n",
       "    <tr>\n",
       "      <th>北 京</th>\n",
       "      <td>-2142.429853</td>\n",
       "      <td>6228.871245</td>\n",
       "    </tr>\n",
       "    <tr>\n",
       "      <th>天 津</th>\n",
       "      <td>-3708.195835</td>\n",
       "      <td>3538.448310</td>\n",
       "    </tr>\n",
       "    <tr>\n",
       "      <th>广 东</th>\n",
       "      <td>2180.124981</td>\n",
       "      <td>3289.633260</td>\n",
       "    </tr>\n",
       "    <tr>\n",
       "      <th>浙 江</th>\n",
       "      <td>2050.773270</td>\n",
       "      <td>2750.457209</td>\n",
       "    </tr>\n",
       "  </tbody>\n",
       "</table>\n",
       "</div>"
      ],
      "text/plain": [
       "                 公共服务          经济收入\n",
       "地区                                 \n",
       "上 海      -2328.926674  11318.965632\n",
       "北 京      -2142.429853   6228.871245\n",
       "天 津      -3708.195835   3538.448310\n",
       "广 东       2180.124981   3289.633260\n",
       "浙 江       2050.773270   2750.457209"
      ]
     },
     "execution_count": 11,
     "metadata": {},
     "output_type": "execute_result"
    }
   ],
   "source": [
    "newdata = pca.transform(data)\n",
    "data1 = pd.DataFrame(newdata,index=data.index,columns=['公共服务','经济收入'])\n",
    "data1.head()"
   ]
  },
  {
   "cell_type": "code",
   "execution_count": 12,
   "metadata": {},
   "outputs": [
    {
     "data": {
      "text/plain": [
       "地区\n",
       "四 川         5862.817813\n",
       "上 海         4495.019479\n",
       "江 苏         3725.646247\n",
       "广 东         2734.879121\n",
       "浙 江         2400.615239\n",
       "山 东         2188.825385\n",
       "北 京         2043.220696\n",
       "河 北         1577.346598\n",
       "湖 北         1308.711227\n",
       "湖 南          794.264151\n",
       "辽 宁          721.626420\n",
       "黑龙江          491.750321\n",
       "天 津          -84.873763\n",
       "河 南         -358.099810\n",
       "福 建         -580.792537\n",
       "安 徽         -827.191919\n",
       "云 南         -934.331223\n",
       "广 西        -1095.568239\n",
       "山 西        -1166.534023\n",
       "陕 西        -1227.683516\n",
       "江 西        -1562.624973\n",
       "新 疆        -1662.685470\n",
       "内蒙古        -1709.679658\n",
       "吉 林        -1886.596562\n",
       "海 南        -2402.324905\n",
       "甘 肃        -2564.393793\n",
       "贵 州        -2663.834133\n",
       "青 海        -3726.791200\n",
       "宁 夏        -3890.716972\n",
       "dtype: float64"
      ]
     },
     "execution_count": 12,
     "metadata": {},
     "output_type": "execute_result"
    }
   ],
   "source": [
    "data1.mean(axis=1).sort_values(ascending=False)"
   ]
  },
  {
   "cell_type": "code",
   "execution_count": 13,
   "metadata": {},
   "outputs": [
    {
     "data": {
      "text/plain": [
       "地区\n",
       "上 海         7224.597940\n",
       "北 京         3717.480916\n",
       "四 川         3212.627095\n",
       "江 苏         3076.984648\n",
       "广 东         2956.780776\n",
       "浙 江         2540.552027\n",
       "山 东         1498.924294\n",
       "天 津         1364.455066\n",
       "辽 宁         1009.889073\n",
       "河 北          676.351045\n",
       "湖 北          503.717190\n",
       "黑龙江          252.854478\n",
       "福 建           14.163893\n",
       "湖 南           -8.050787\n",
       "河 南        -1030.795997\n",
       "广 西        -1234.290042\n",
       "安 徽        -1265.922669\n",
       "新 疆        -1319.039578\n",
       "云 南        -1340.903568\n",
       "海 南        -1417.087845\n",
       "山 西        -1456.227276\n",
       "吉 林        -1617.615143\n",
       "陕 西        -1678.836684\n",
       "内蒙古        -1803.603202\n",
       "江 西        -1833.146063\n",
       "甘 肃        -2738.668202\n",
       "贵 州        -2823.892247\n",
       "青 海        -3150.078248\n",
       "宁 夏        -3331.220892\n",
       "dtype: float64"
      ]
     },
     "execution_count": 13,
     "metadata": {},
     "output_type": "execute_result"
    }
   ],
   "source": [
    "(data1 * [0.3,0.7]).sum(axis=1).sort_values(ascending=False)"
   ]
  },
  {
   "cell_type": "code",
   "execution_count": 14,
   "metadata": {},
   "outputs": [],
   "source": [
    "# 统一量纲\n",
    "from sklearn.preprocessing import MinMaxScaler\n",
    "model = MinMaxScaler()\n",
    "std_indexs = model.fit_transform(data1)\n",
    "std_data1 = pd.DataFrame(std_indexs,index=data.index,columns=['公共服务','经济收入'])"
   ]
  },
  {
   "cell_type": "code",
   "execution_count": 15,
   "metadata": {},
   "outputs": [
    {
     "data": {
      "text/plain": [
       "地区\n",
       "上 海         1.166530\n",
       "四 川         1.160003\n",
       "江 苏         0.957631\n",
       "广 东         0.861911\n",
       "北 京         0.823123\n",
       "浙 江         0.817148\n",
       "山 东         0.762966\n",
       "河 北         0.679049\n",
       "湖 北         0.648447\n",
       "辽 宁         0.610893\n",
       "湖 南         0.583831\n",
       "黑龙江         0.564482\n",
       "天 津         0.547992\n",
       "福 建         0.457258\n",
       "河 南         0.443192\n",
       "安 徽         0.391957\n",
       "云 南         0.379549\n",
       "广 西         0.368159\n",
       "山 西         0.354223\n",
       "陕 西         0.341172\n",
       "新 疆         0.312840\n",
       "江 西         0.305040\n",
       "内蒙古         0.292405\n",
       "吉 林         0.282199\n",
       "海 南         0.241106\n",
       "甘 肃         0.182235\n",
       "贵 州         0.170200\n",
       "青 海         0.060959\n",
       "宁 夏         0.039770\n",
       "dtype: float64"
      ]
     },
     "execution_count": 15,
     "metadata": {},
     "output_type": "execute_result"
    }
   ],
   "source": [
    "std_data1.sum(axis=1).sort_values(ascending=False)"
   ]
  },
  {
   "cell_type": "code",
   "execution_count": 16,
   "metadata": {},
   "outputs": [],
   "source": [
    "# 2.练习"
   ]
  },
  {
   "cell_type": "code",
   "execution_count": 17,
   "metadata": {},
   "outputs": [],
   "source": [
    "data = pd.read_excel('../实验数据/商业银行信用分析.xlsx',index_col=0)"
   ]
  },
  {
   "cell_type": "code",
   "execution_count": 18,
   "metadata": {},
   "outputs": [],
   "source": [
    "pca_f = PCA(n_components=0.99,svd_solver=\"full\")\n",
    "data_f = pca_f.fit_transform(data)"
   ]
  },
  {
   "cell_type": "code",
   "execution_count": 19,
   "metadata": {},
   "outputs": [],
   "source": [
    "data1 = pd.DataFrame(data_f,index=data.index,columns=['经济效益'])"
   ]
  },
  {
   "cell_type": "code",
   "execution_count": 20,
   "metadata": {},
   "outputs": [
    {
     "data": {
      "text/html": [
       "<div>\n",
       "<style scoped>\n",
       "    .dataframe tbody tr th:only-of-type {\n",
       "        vertical-align: middle;\n",
       "    }\n",
       "\n",
       "    .dataframe tbody tr th {\n",
       "        vertical-align: top;\n",
       "    }\n",
       "\n",
       "    .dataframe thead th {\n",
       "        text-align: right;\n",
       "    }\n",
       "</style>\n",
       "<table border=\"1\" class=\"dataframe\">\n",
       "  <thead>\n",
       "    <tr style=\"text-align: right;\">\n",
       "      <th></th>\n",
       "      <th>经济效益</th>\n",
       "    </tr>\n",
       "    <tr>\n",
       "      <th>中文名称</th>\n",
       "      <th></th>\n",
       "    </tr>\n",
       "  </thead>\n",
       "  <tbody>\n",
       "    <tr>\n",
       "      <th>工商银行</th>\n",
       "      <td>133450.817814</td>\n",
       "    </tr>\n",
       "    <tr>\n",
       "      <th>建设银行</th>\n",
       "      <td>104771.110728</td>\n",
       "    </tr>\n",
       "    <tr>\n",
       "      <th>中国银行</th>\n",
       "      <td>101615.651211</td>\n",
       "    </tr>\n",
       "    <tr>\n",
       "      <th>农业银行</th>\n",
       "      <td>97307.685817</td>\n",
       "    </tr>\n",
       "    <tr>\n",
       "      <th>交通银行</th>\n",
       "      <td>28080.258530</td>\n",
       "    </tr>\n",
       "    <tr>\n",
       "      <th>招商银行</th>\n",
       "      <td>10620.491106</td>\n",
       "    </tr>\n",
       "    <tr>\n",
       "      <th>浦发银行</th>\n",
       "      <td>7439.948398</td>\n",
       "    </tr>\n",
       "    <tr>\n",
       "      <th>中信银行</th>\n",
       "      <td>6999.538224</td>\n",
       "    </tr>\n",
       "    <tr>\n",
       "      <th>民生银行</th>\n",
       "      <td>3763.686801</td>\n",
       "    </tr>\n",
       "    <tr>\n",
       "      <th>兴业银行</th>\n",
       "      <td>3064.869544</td>\n",
       "    </tr>\n",
       "    <tr>\n",
       "      <th>光大银行</th>\n",
       "      <td>-532.828104</td>\n",
       "    </tr>\n",
       "    <tr>\n",
       "      <th>华夏银行</th>\n",
       "      <td>-5626.108215</td>\n",
       "    </tr>\n",
       "    <tr>\n",
       "      <th>广发银行</th>\n",
       "      <td>-7913.925930</td>\n",
       "    </tr>\n",
       "    <tr>\n",
       "      <th>深发展</th>\n",
       "      <td>-8957.590297</td>\n",
       "    </tr>\n",
       "    <tr>\n",
       "      <th>北京银行</th>\n",
       "      <td>-9240.103989</td>\n",
       "    </tr>\n",
       "    <tr>\n",
       "      <th>上海银行</th>\n",
       "      <td>-10886.148100</td>\n",
       "    </tr>\n",
       "    <tr>\n",
       "      <th>江苏银行</th>\n",
       "      <td>-12367.786989</td>\n",
       "    </tr>\n",
       "    <tr>\n",
       "      <th>重庆农商</th>\n",
       "      <td>-14197.391878</td>\n",
       "    </tr>\n",
       "    <tr>\n",
       "      <th>恒丰银行</th>\n",
       "      <td>-14303.789842</td>\n",
       "    </tr>\n",
       "    <tr>\n",
       "      <th>上海农商</th>\n",
       "      <td>-14401.047576</td>\n",
       "    </tr>\n",
       "    <tr>\n",
       "      <th>平安银行</th>\n",
       "      <td>-14418.489746</td>\n",
       "    </tr>\n",
       "    <tr>\n",
       "      <th>宁波银行</th>\n",
       "      <td>-14485.418878</td>\n",
       "    </tr>\n",
       "    <tr>\n",
       "      <th>渤海银行</th>\n",
       "      <td>-14512.330954</td>\n",
       "    </tr>\n",
       "    <tr>\n",
       "      <th>浙商银行</th>\n",
       "      <td>-14842.646985</td>\n",
       "    </tr>\n",
       "    <tr>\n",
       "      <th>杭州银行</th>\n",
       "      <td>-14870.605700</td>\n",
       "    </tr>\n",
       "    <tr>\n",
       "      <th>徽商银行</th>\n",
       "      <td>-14897.770551</td>\n",
       "    </tr>\n",
       "    <tr>\n",
       "      <th>南京银行</th>\n",
       "      <td>-14937.889305</td>\n",
       "    </tr>\n",
       "    <tr>\n",
       "      <th>天津银行</th>\n",
       "      <td>-15119.836684</td>\n",
       "    </tr>\n",
       "    <tr>\n",
       "      <th>大连银行</th>\n",
       "      <td>-15422.698150</td>\n",
       "    </tr>\n",
       "    <tr>\n",
       "      <th>哈尔滨银</th>\n",
       "      <td>-15913.215156</td>\n",
       "    </tr>\n",
       "    <tr>\n",
       "      <th>重庆银行</th>\n",
       "      <td>-16086.776353</td>\n",
       "    </tr>\n",
       "    <tr>\n",
       "      <th>东莞银行</th>\n",
       "      <td>-16151.902859</td>\n",
       "    </tr>\n",
       "    <tr>\n",
       "      <th>锦州银行</th>\n",
       "      <td>-16271.038423</td>\n",
       "    </tr>\n",
       "    <tr>\n",
       "      <th>杭州联农</th>\n",
       "      <td>-16429.715760</td>\n",
       "    </tr>\n",
       "    <tr>\n",
       "      <th>河北银行</th>\n",
       "      <td>-16466.799525</td>\n",
       "    </tr>\n",
       "    <tr>\n",
       "      <th>贵阳银行</th>\n",
       "      <td>-16583.708189</td>\n",
       "    </tr>\n",
       "    <tr>\n",
       "      <th>齐鲁银行</th>\n",
       "      <td>-16646.623535</td>\n",
       "    </tr>\n",
       "    <tr>\n",
       "      <th>包商银行</th>\n",
       "      <td>-16652.494862</td>\n",
       "    </tr>\n",
       "    <tr>\n",
       "      <th>郑州银行</th>\n",
       "      <td>-16655.546441</td>\n",
       "    </tr>\n",
       "    <tr>\n",
       "      <th>温州银行</th>\n",
       "      <td>-16696.378666</td>\n",
       "    </tr>\n",
       "    <tr>\n",
       "      <th>厦门银行</th>\n",
       "      <td>-16770.543091</td>\n",
       "    </tr>\n",
       "    <tr>\n",
       "      <th>日照银行</th>\n",
       "      <td>-16872.404913</td>\n",
       "    </tr>\n",
       "    <tr>\n",
       "      <th>德阳银行</th>\n",
       "      <td>-16950.966534</td>\n",
       "    </tr>\n",
       "    <tr>\n",
       "      <th>莱商银行</th>\n",
       "      <td>-17006.989182</td>\n",
       "    </tr>\n",
       "    <tr>\n",
       "      <th>营口银行</th>\n",
       "      <td>-17024.546810</td>\n",
       "    </tr>\n",
       "  </tbody>\n",
       "</table>\n",
       "</div>"
      ],
      "text/plain": [
       "               经济效益\n",
       "中文名称               \n",
       "工商银行  133450.817814\n",
       "建设银行  104771.110728\n",
       "中国银行  101615.651211\n",
       "农业银行   97307.685817\n",
       "交通银行   28080.258530\n",
       "招商银行   10620.491106\n",
       "浦发银行    7439.948398\n",
       "中信银行    6999.538224\n",
       "民生银行    3763.686801\n",
       "兴业银行    3064.869544\n",
       "光大银行    -532.828104\n",
       "华夏银行   -5626.108215\n",
       "广发银行   -7913.925930\n",
       "深发展    -8957.590297\n",
       "北京银行   -9240.103989\n",
       "上海银行  -10886.148100\n",
       "江苏银行  -12367.786989\n",
       "重庆农商  -14197.391878\n",
       "恒丰银行  -14303.789842\n",
       "上海农商  -14401.047576\n",
       "平安银行  -14418.489746\n",
       "宁波银行  -14485.418878\n",
       "渤海银行  -14512.330954\n",
       "浙商银行  -14842.646985\n",
       "杭州银行  -14870.605700\n",
       "徽商银行  -14897.770551\n",
       "南京银行  -14937.889305\n",
       "天津银行  -15119.836684\n",
       "大连银行  -15422.698150\n",
       "哈尔滨银  -15913.215156\n",
       "重庆银行  -16086.776353\n",
       "东莞银行  -16151.902859\n",
       "锦州银行  -16271.038423\n",
       "杭州联农  -16429.715760\n",
       "河北银行  -16466.799525\n",
       "贵阳银行  -16583.708189\n",
       "齐鲁银行  -16646.623535\n",
       "包商银行  -16652.494862\n",
       "郑州银行  -16655.546441\n",
       "温州银行  -16696.378666\n",
       "厦门银行  -16770.543091\n",
       "日照银行  -16872.404913\n",
       "德阳银行  -16950.966534\n",
       "莱商银行  -17006.989182\n",
       "营口银行  -17024.546810"
      ]
     },
     "execution_count": 20,
     "metadata": {},
     "output_type": "execute_result"
    }
   ],
   "source": [
    "data1.sort_values(by='经济效益',ascending=False)"
   ]
  },
  {
   "cell_type": "code",
   "execution_count": null,
   "metadata": {},
   "outputs": [],
   "source": []
  }
 ],
 "metadata": {
  "kernelspec": {
   "display_name": "Python 3",
   "language": "python",
   "name": "python3"
  },
  "language_info": {
   "codemirror_mode": {
    "name": "ipython",
    "version": 3
   },
   "file_extension": ".py",
   "mimetype": "text/x-python",
   "name": "python",
   "nbconvert_exporter": "python",
   "pygments_lexer": "ipython3",
   "version": "3.7.3"
  }
 },
 "nbformat": 4,
 "nbformat_minor": 2
}
