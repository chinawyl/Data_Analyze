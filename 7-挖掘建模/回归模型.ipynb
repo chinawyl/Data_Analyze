{
 "cells": [
  {
   "cell_type": "code",
   "execution_count": 1,
   "metadata": {},
   "outputs": [],
   "source": [
    "import numpy as np\n",
    "import pandas as pd\n",
    "import matplotlib.pyplot as plt\n",
    "from sklearn import linear_model\n",
    "from sklearn.model_selection import train_test_split\n",
    "from sklearn.model_selection import cross_val_score\n",
    "plt.rcParams['font.sans-serif'] = ['SimHei']\n",
    "plt.rcParams['axes.unicode_minus'] = False"
   ]
  },
  {
   "cell_type": "code",
   "execution_count": 2,
   "metadata": {},
   "outputs": [],
   "source": [
    "# 一、线性回归\n",
    "\n",
    "\n"
   ]
  },
  {
   "cell_type": "code",
   "execution_count": 3,
   "metadata": {},
   "outputs": [
    {
     "data": {
      "text/plain": [
       "array([[62.83640738]])"
      ]
     },
     "execution_count": 3,
     "metadata": {},
     "output_type": "execute_result"
    }
   ],
   "source": [
    "# 练习1.通过身高预测体重（一元回归）\n",
    "model = linear_model.LinearRegression()\n",
    "\n",
    "data = pd.read_excel('./挖掘建模data/身高体重.xls')\n",
    "\n",
    "model.fit(data['身高'].values.reshape(-1,1),data['体重'].values.reshape(-1,1))\n",
    "\n",
    "model.predict([[1.75]])"
   ]
  },
  {
   "cell_type": "code",
   "execution_count": 4,
   "metadata": {},
   "outputs": [
    {
     "name": "stdout",
     "output_type": "stream",
     "text": [
      "[[4400.48198198]]\n",
      "\n",
      "[[45.15765766]]\n",
      "\n",
      "[2729.64864865]\n"
     ]
    }
   ],
   "source": [
    "# 练习2.通过日期预测销量（二元回归）\n",
    "data = pd.read_excel('./挖掘建模data/arima_data.xls')\n",
    "\n",
    "X = np.array(data.index).reshape(-1,1) #日期是字符串，要转换成数字，但过于麻烦，故选择index\n",
    "y = data['销量'].values.reshape(-1,1) #将其变为2维\n",
    "\n",
    "model.fit(X,y)\n",
    "\n",
    "print(model.predict([[37]])) #要使用2维数据预测\n",
    "print()\n",
    "print(model.coef_) #线性回归系数k\n",
    "print()\n",
    "print(model.intercept_) #线性回归常识b"
   ]
  },
  {
   "cell_type": "code",
   "execution_count": 5,
   "metadata": {},
   "outputs": [
    {
     "data": {
      "text/plain": [
       "array([45926.39538257])"
      ]
     },
     "execution_count": 5,
     "metadata": {},
     "output_type": "execute_result"
    }
   ],
   "source": [
    "# 练习3.通过广告费用和人口数预测产品销售量（二元回归）\n",
    "data = pd.read_excel('./挖掘建模data/广告.xls')\n",
    "\n",
    "X = data[['广告费用X1（万元）','人口数X2（万人）']].values\n",
    "y = data['产品销售量Y（万件）'].values\n",
    "\n",
    "model.fit(X,y)\n",
    "\n",
    "model.predict([[375,9]])"
   ]
  },
  {
   "cell_type": "code",
   "execution_count": 6,
   "metadata": {},
   "outputs": [
    {
     "name": "stdout",
     "output_type": "stream",
     "text": [
      "[[ 673.35410919]\n",
      " [-262.55682309]\n",
      " [1031.89185574]\n",
      " [-343.48270858]\n",
      " [ 213.6064129 ]\n",
      " [ 179.84185587]]\n",
      "\n",
      "1.0\n"
     ]
    }
   ],
   "source": [
    "# 练习4.预测y值（多元回归）\n",
    "data = pd.read_excel('./挖掘建模data/财政收入影响.xls')\n",
    "\n",
    "X = data.iloc[:,:-1].values\n",
    "y = data.iloc[:,-1].values.reshape(-1,1)\n",
    "\n",
    "Xtrain, Xtest, Ytrain, Ytest = train_test_split(X,y,test_size=0.3,random_state=420)\n",
    "\n",
    "model.fit(Xtrain,Ytrain)\n",
    "\n",
    "print(model.predict(Xtest))\n",
    "print()\n",
    "print(model.score(Xtrain,Ytrain))"
   ]
  },
  {
   "cell_type": "code",
   "execution_count": 7,
   "metadata": {},
   "outputs": [],
   "source": [
    "# 二、逻辑回归\n",
    "\n",
    "\n",
    "\n",
    "\n"
   ]
  },
  {
   "cell_type": "code",
   "execution_count": null,
   "metadata": {},
   "outputs": [],
   "source": []
  }
 ],
 "metadata": {
  "kernelspec": {
   "display_name": "Python 3",
   "language": "python",
   "name": "python3"
  },
  "language_info": {
   "codemirror_mode": {
    "name": "ipython",
    "version": 3
   },
   "file_extension": ".py",
   "mimetype": "text/x-python",
   "name": "python",
   "nbconvert_exporter": "python",
   "pygments_lexer": "ipython3",
   "version": "3.7.3"
  }
 },
 "nbformat": 4,
 "nbformat_minor": 2
}
