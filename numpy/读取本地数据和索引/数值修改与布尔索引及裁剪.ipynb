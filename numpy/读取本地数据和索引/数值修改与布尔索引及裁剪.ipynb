{
 "cells": [
  {
   "cell_type": "code",
   "execution_count": 6,
   "metadata": {},
   "outputs": [],
   "source": [
    "import numpy as np"
   ]
  },
  {
   "cell_type": "code",
   "execution_count": 7,
   "metadata": {},
   "outputs": [],
   "source": [
    "#本地数据读取\n",
    "us_file_path = \"./youtube_video_data/US_video_data_numbers.csv\"\n",
    "\n",
    "uk_file_path = \"./youtube_video_data/GB_video_data_numbers.csv\""
   ]
  },
  {
   "cell_type": "code",
   "execution_count": 8,
   "metadata": {},
   "outputs": [],
   "source": [
    "t1 = np.loadtxt(us_file_path,delimiter=\",\",dtype=\"int\",unpack=True)\n",
    "\n",
    "t2 = np.loadtxt(us_file_path,delimiter=\",\",dtype=\"int\")"
   ]
  },
  {
   "cell_type": "code",
   "execution_count": 9,
   "metadata": {},
   "outputs": [
    {
     "data": {
      "text/plain": [
       "array([[4394029, 7860119, 5845909, ...,  142463, 2162240,  515000],\n",
       "       [ 320053,  185853,  576597, ...,    4231,   41032,   34727],\n",
       "       [   5931,   26679,   39774, ...,     148,    1384,     195],\n",
       "       [  46245,       0,  170708, ...,     279,    4737,    4722]])"
      ]
     },
     "execution_count": 9,
     "metadata": {},
     "output_type": "execute_result"
    }
   ],
   "source": [
    "t1"
   ]
  },
  {
   "cell_type": "code",
   "execution_count": 10,
   "metadata": {},
   "outputs": [],
   "source": [
    "#修改第1行第2列的值为0(0,1)\n",
    "t1[0,1] = 0"
   ]
  },
  {
   "cell_type": "code",
   "execution_count": 11,
   "metadata": {},
   "outputs": [
    {
     "data": {
      "text/plain": [
       "array([[4394029,       0, 5845909, ...,  142463, 2162240,  515000],\n",
       "       [ 320053,  185853,  576597, ...,    4231,   41032,   34727],\n",
       "       [   5931,   26679,   39774, ...,     148,    1384,     195],\n",
       "       [  46245,       0,  170708, ...,     279,    4737,    4722]])"
      ]
     },
     "execution_count": 11,
     "metadata": {},
     "output_type": "execute_result"
    }
   ],
   "source": [
    "t1"
   ]
  },
  {
   "cell_type": "code",
   "execution_count": 12,
   "metadata": {},
   "outputs": [],
   "source": [
    "#将t1中小于10的值修改为3\n",
    "t1[t1<10]=3"
   ]
  },
  {
   "cell_type": "code",
   "execution_count": 13,
   "metadata": {},
   "outputs": [
    {
     "data": {
      "text/plain": [
       "array([[4394029,       3, 5845909, ...,  142463, 2162240,  515000],\n",
       "       [ 320053,  185853,  576597, ...,    4231,   41032,   34727],\n",
       "       [   5931,   26679,   39774, ...,     148,    1384,     195],\n",
       "       [  46245,       3,  170708, ...,     279,    4737,    4722]])"
      ]
     },
     "execution_count": 13,
     "metadata": {},
     "output_type": "execute_result"
    }
   ],
   "source": [
    "t1"
   ]
  },
  {
   "cell_type": "code",
   "execution_count": 14,
   "metadata": {},
   "outputs": [
    {
     "data": {
      "text/plain": [
       "array([[1, 0, 1, ..., 1, 1, 1],\n",
       "       [1, 1, 1, ..., 1, 1, 1],\n",
       "       [1, 1, 1, ..., 1, 1, 1],\n",
       "       [1, 0, 1, ..., 1, 1, 1]])"
      ]
     },
     "execution_count": 14,
     "metadata": {},
     "output_type": "execute_result"
    }
   ],
   "source": [
    "#将t1中小于10的值修改为0，大于10的值修改为1\n",
    "np.where(t1<=10,0,1)"
   ]
  },
  {
   "cell_type": "code",
   "execution_count": 16,
   "metadata": {},
   "outputs": [
    {
     "data": {
      "text/plain": [
       "array([[20, 10, 20, ..., 20, 20, 20],\n",
       "       [20, 20, 20, ..., 20, 20, 20],\n",
       "       [20, 20, 20, ..., 20, 20, 20],\n",
       "       [20, 10, 20, ..., 20, 20, 20]])"
      ]
     },
     "execution_count": 16,
     "metadata": {},
     "output_type": "execute_result"
    }
   ],
   "source": [
    "#将t1中小于10的数字替换为10，把大于20的替换为20\n",
    "t1.clip(10,20) #包不包含10或20无所谓"
   ]
  },
  {
   "cell_type": "code",
   "execution_count": null,
   "metadata": {},
   "outputs": [],
   "source": []
  }
 ],
 "metadata": {
  "kernelspec": {
   "display_name": "Python 3",
   "language": "python",
   "name": "python3"
  },
  "language_info": {
   "codemirror_mode": {
    "name": "ipython",
    "version": 3
   },
   "file_extension": ".py",
   "mimetype": "text/x-python",
   "name": "python",
   "nbconvert_exporter": "python",
   "pygments_lexer": "ipython3",
   "version": "3.7.3"
  }
 },
 "nbformat": 4,
 "nbformat_minor": 2
}
