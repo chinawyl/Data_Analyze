{
 "cells": [
  {
   "cell_type": "code",
   "execution_count": 13,
   "metadata": {},
   "outputs": [],
   "source": [
    "import numpy as np"
   ]
  },
  {
   "cell_type": "code",
   "execution_count": 14,
   "metadata": {},
   "outputs": [],
   "source": [
    "#本地数据读取\n",
    "us_data = \"./youtube_video_data/US_video_data_numbers.csv\"\n",
    "\n",
    "uk_data = \"./youtube_video_data/GB_video_data_numbers.csv\""
   ]
  },
  {
   "cell_type": "code",
   "execution_count": 15,
   "metadata": {},
   "outputs": [],
   "source": [
    "us_data = np.loadtxt(us_data,delimiter=\",\",dtype=\"int\")\n",
    "\n",
    "uk_data = np.loadtxt(uk_data,delimiter=\",\",dtype=\"int\")"
   ]
  },
  {
   "cell_type": "code",
   "execution_count": 17,
   "metadata": {},
   "outputs": [],
   "source": [
    "#添加国家信息\n",
    "#构造全为0和1的数据\n",
    "zeros_data = np.zeros((us_data.shape[0],1)).astype(int)\n",
    "ones_data = np.ones((uk_data.shape[0],1)).astype(int)\n",
    "\n",
    "#分别添加一列全为1,0的数组\n",
    "us_data = np.hstack((us_data,zeros_data)) #hstack为水平拼接\n",
    "uk_data = np.hstack((uk_data,ones_data))\n",
    "\n",
    "#拼接两组数据()\n",
    "final_data = np.vstack((us_data,uk_data)) #vstack为竖直拼接"
   ]
  },
  {
   "cell_type": "code",
   "execution_count": 18,
   "metadata": {},
   "outputs": [
    {
     "data": {
      "text/plain": [
       "array([[4394029,  320053,    5931,   46245,       0],\n",
       "       [7860119,  185853,   26679,       0,       0],\n",
       "       [5845909,  576597,   39774,  170708,       0],\n",
       "       ...,\n",
       "       [ 109222,    4840,      35,     212,       1],\n",
       "       [ 626223,   22962,     532,    1559,       1],\n",
       "       [  99228,    1699,      23,     135,       1]])"
      ]
     },
     "execution_count": 18,
     "metadata": {},
     "output_type": "execute_result"
    }
   ],
   "source": [
    "final_data"
   ]
  },
  {
   "cell_type": "code",
   "execution_count": 19,
   "metadata": {},
   "outputs": [],
   "source": [
    "#行交换\n",
    "final_data[[1,2],:] = final_data[[2,1],:] "
   ]
  },
  {
   "cell_type": "code",
   "execution_count": 20,
   "metadata": {},
   "outputs": [
    {
     "data": {
      "text/plain": [
       "array([[4394029,  320053,    5931,   46245,       0],\n",
       "       [5845909,  576597,   39774,  170708,       0],\n",
       "       [7860119,  185853,   26679,       0,       0],\n",
       "       ...,\n",
       "       [ 109222,    4840,      35,     212,       1],\n",
       "       [ 626223,   22962,     532,    1559,       1],\n",
       "       [  99228,    1699,      23,     135,       1]])"
      ]
     },
     "execution_count": 20,
     "metadata": {},
     "output_type": "execute_result"
    }
   ],
   "source": [
    "final_data"
   ]
  },
  {
   "cell_type": "code",
   "execution_count": 21,
   "metadata": {},
   "outputs": [],
   "source": [
    "# 列交换\n",
    "final_data[:,[0,2]] = final_data[:,[2,0]]"
   ]
  },
  {
   "cell_type": "code",
   "execution_count": 22,
   "metadata": {},
   "outputs": [
    {
     "data": {
      "text/plain": [
       "array([[   5931,  320053, 4394029,   46245,       0],\n",
       "       [  39774,  576597, 5845909,  170708,       0],\n",
       "       [  26679,  185853, 7860119,       0,       0],\n",
       "       ...,\n",
       "       [     35,    4840,  109222,     212,       1],\n",
       "       [    532,   22962,  626223,    1559,       1],\n",
       "       [     23,    1699,   99228,     135,       1]])"
      ]
     },
     "execution_count": 22,
     "metadata": {},
     "output_type": "execute_result"
    }
   ],
   "source": [
    "final_data"
   ]
  },
  {
   "cell_type": "code",
   "execution_count": null,
   "metadata": {},
   "outputs": [],
   "source": []
  }
 ],
 "metadata": {
  "kernelspec": {
   "display_name": "Python 3",
   "language": "python",
   "name": "python3"
  },
  "language_info": {
   "codemirror_mode": {
    "name": "ipython",
    "version": 3
   },
   "file_extension": ".py",
   "mimetype": "text/x-python",
   "name": "python",
   "nbconvert_exporter": "python",
   "pygments_lexer": "ipython3",
   "version": "3.7.3"
  }
 },
 "nbformat": 4,
 "nbformat_minor": 2
}
