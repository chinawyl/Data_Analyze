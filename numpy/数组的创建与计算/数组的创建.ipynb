{
 "cells": [
  {
   "cell_type": "code",
   "execution_count": 4,
   "metadata": {},
   "outputs": [],
   "source": [
    "import numpy as np\n",
    "import random"
   ]
  },
  {
   "cell_type": "code",
   "execution_count": 8,
   "metadata": {},
   "outputs": [
    {
     "name": "stdout",
     "output_type": "stream",
     "text": [
      "[1 2 3]\n",
      "<class 'numpy.ndarray'>\n",
      "[0 1 2 3 4 5 6 7 8 9]\n",
      "<class 'numpy.ndarray'>\n",
      "[ 0  1  2  3  4  5  6  7  8  9 10 11]\n",
      "<class 'numpy.ndarray'>\n",
      "int32\n",
      "[2. 3. 4.]\n",
      "float32\n",
      "[ True  True False False  True False  True False]\n",
      "bool\n",
      "[1 1 0 0 1 0 1 0]\n",
      "int8\n",
      "[0.87191834 0.16536954 0.68054741 0.70987856 0.97878646 0.24757387\n",
      " 0.34507907 0.47434008 0.83300071 0.26097608]\n",
      "float64\n",
      "[0.87 0.17 0.68 0.71 0.98 0.25 0.35 0.47 0.83 0.26]\n"
     ]
    }
   ],
   "source": [
    "#默认数据类型为\n",
    "a = np.array([1,2,3])\n",
    "print(a)\n",
    "print(type(a))\n",
    "\n",
    "b = np.array(range(10))\n",
    "print(b)\n",
    "print(type(b))\n",
    "\n",
    "c = np.arange(12)\n",
    "print(c)\n",
    "print(type(c))\n",
    "print(c.dtype)\n",
    "\n",
    "#float数据类型\n",
    "d = np.array(range(2,5),dtype=\"float32\")\n",
    "print(d)\n",
    "print(d.dtype)\n",
    "\n",
    "#bool数据类型\n",
    "e = np.array([1,1,0,0,1,0,1,0],dtype=\"bool\")\n",
    "print(e)\n",
    "print(e.dtype)\n",
    "\n",
    "#调整数据类型\n",
    "f = e.astype(\"int8\")\n",
    "print(f)\n",
    "print(f.dtype)\n",
    "\n",
    "#小数位数\n",
    "g = np.array([random.random() for i in range(10)])\n",
    "print(g)\n",
    "print(g.dtype)\n",
    "\n",
    "h = np.round(g,2)\n",
    "print(h)\n"
   ]
  },
  {
   "cell_type": "code",
   "execution_count": null,
   "metadata": {},
   "outputs": [],
   "source": []
  }
 ],
 "metadata": {
  "kernelspec": {
   "display_name": "Python 3",
   "language": "python",
   "name": "python3"
  },
  "language_info": {
   "codemirror_mode": {
    "name": "ipython",
    "version": 3
   },
   "file_extension": ".py",
   "mimetype": "text/x-python",
   "name": "python",
   "nbconvert_exporter": "python",
   "pygments_lexer": "ipython3",
   "version": "3.7.3"
  }
 },
 "nbformat": 4,
 "nbformat_minor": 2
}
