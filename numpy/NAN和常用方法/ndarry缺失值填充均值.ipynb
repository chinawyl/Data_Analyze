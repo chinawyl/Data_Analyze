{
 "cells": [
  {
   "cell_type": "code",
   "execution_count": 1,
   "metadata": {},
   "outputs": [],
   "source": [
    "import numpy as np"
   ]
  },
  {
   "cell_type": "code",
   "execution_count": 14,
   "metadata": {},
   "outputs": [
    {
     "name": "stdout",
     "output_type": "stream",
     "text": [
      "[[ 0.  1.  2.  3.  4.  5.]\n",
      " [ 6.  7. nan nan nan nan]\n",
      " [12. 13. 14. 15. 16. 17.]\n",
      " [18. 19. 20. 21. 22. 23.]]\n",
      "\n",
      "[[ 0.  1.  2.  3.  4.  5.]\n",
      " [ 6.  7. 12. 13. 14. 15.]\n",
      " [12. 13. 14. 15. 16. 17.]\n",
      " [18. 19. 20. 21. 22. 23.]]\n"
     ]
    }
   ],
   "source": [
    "def Change_Nan(a):\n",
    "    for i in range(a.shape[1]): #遍历每一列\n",
    "        temp_col = a[:,i] #当前这一列\n",
    "        nan_number = np.count_nonzero(temp_col!=temp_col) #判断当前列是否有nan\n",
    "        if nan_number != 0:\n",
    "            temp_not_nan_col = temp_col[temp_col==temp_col]\n",
    "            temp_col[np.isnan(temp_col)] = temp_not_nan_col.mean()\n",
    "            \n",
    "    return a\n",
    "a = np.arange(24).reshape(4,6).astype(float)\n",
    "a[1,2:] = np.nan\n",
    "print(a)\n",
    "print()\n",
    "Change_Nan(a)\n",
    "print(a)"
   ]
  },
  {
   "cell_type": "code",
   "execution_count": null,
   "metadata": {},
   "outputs": [],
   "source": []
  }
 ],
 "metadata": {
  "kernelspec": {
   "display_name": "Python 3",
   "language": "python",
   "name": "python3"
  },
  "language_info": {
   "codemirror_mode": {
    "name": "ipython",
    "version": 3
   },
   "file_extension": ".py",
   "mimetype": "text/x-python",
   "name": "python",
   "nbconvert_exporter": "python",
   "pygments_lexer": "ipython3",
   "version": "3.7.3"
  }
 },
 "nbformat": 4,
 "nbformat_minor": 2
}
