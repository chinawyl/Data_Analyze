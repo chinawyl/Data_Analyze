{
 "cells": [
  {
   "cell_type": "code",
   "execution_count": 1,
   "metadata": {},
   "outputs": [],
   "source": [
    "import pandas as pd\n",
    "import numpy as np"
   ]
  },
  {
   "cell_type": "code",
   "execution_count": 2,
   "metadata": {},
   "outputs": [
    {
     "name": "stdout",
     "output_type": "stream",
     "text": [
      "0         NaN\n",
      "1    1.000000\n",
      "2    0.500000\n",
      "3    0.333333\n",
      "4    0.250000\n",
      "5   -0.200000\n",
      "dtype: float64\n",
      "          0         1\n",
      "0       NaN       NaN\n",
      "1 -5.353526 -1.586069\n",
      "2 -0.629825 -1.641812\n",
      "3 -3.880053 -4.058411\n",
      "4 -1.049041 -0.960447\n"
     ]
    }
   ],
   "source": [
    "#pct_change():将每个元素与其前一个元素进行比较，并计算变化百分比\n",
    "#可用于股票涨幅\n",
    "s = pd.Series([1,2,3,4,5,4])\n",
    "print (s.pct_change())\n",
    "\n",
    "df = pd.DataFrame(np.random.randn(5, 2))\n",
    "print (df.pct_change())"
   ]
  },
  {
   "cell_type": "code",
   "execution_count": 3,
   "metadata": {},
   "outputs": [
    {
     "name": "stdout",
     "output_type": "stream",
     "text": [
      "-0.33131388683369295\n",
      "          a         b         c         d         e\n",
      "a  0.645073 -0.331314 -0.437864  0.206661 -0.460045\n",
      "b -0.331314  0.777624  0.209100 -0.109032  0.232178\n",
      "c -0.437864  0.209100  0.841026 -0.425496  0.549849\n",
      "d  0.206661 -0.109032 -0.425496  0.369802 -0.376725\n",
      "e -0.460045  0.232178  0.549849 -0.376725  1.276227\n"
     ]
    }
   ],
   "source": [
    "#协方差:cov\n",
    "frame = pd.DataFrame(np.random.randn(10, 5), columns=['a', 'b', 'c', 'd', 'e'])\n",
    "print (frame['a'].cov(frame['b']))\n",
    "print (frame.cov())"
   ]
  },
  {
   "cell_type": "code",
   "execution_count": 4,
   "metadata": {},
   "outputs": [
    {
     "name": "stdout",
     "output_type": "stream",
     "text": [
      "0.14821041339414207\n",
      "          a         b         c         d         e\n",
      "a  1.000000  0.148210 -0.294395 -0.010292 -0.413392\n",
      "b  0.148210  1.000000 -0.621520 -0.324151  0.369807\n",
      "c -0.294395 -0.621520  1.000000  0.026712  0.171459\n",
      "d -0.010292 -0.324151  0.026712  1.000000  0.048579\n",
      "e -0.413392  0.369807  0.171459  0.048579  1.000000\n"
     ]
    }
   ],
   "source": [
    "#相关性:corr\n",
    "frame = pd.DataFrame(np.random.randn(10, 5), columns=['a', 'b', 'c', 'd', 'e'])\n",
    "\n",
    "print (frame['a'].corr(frame['b']))\n",
    "print (frame.corr())"
   ]
  },
  {
   "cell_type": "code",
   "execution_count": 5,
   "metadata": {},
   "outputs": [
    {
     "name": "stdout",
     "output_type": "stream",
     "text": [
      "a    4.0\n",
      "b    2.5\n",
      "c    1.0\n",
      "d    2.5\n",
      "e    5.0\n",
      "dtype: float64\n"
     ]
    }
   ],
   "source": [
    "#数据排名:rank\n",
    "'''\n",
    "Rank支持不同的tie-breaking方法，用方法参数指定 -\n",
    "\n",
    "average - 并列组平均排序等级min - 组中最低的排序等级max - 组中最高的排序等级first - 按照它们出现在数组中的顺序分配队列\n",
    "\n",
    "\n",
    "'''\n",
    "s = pd.Series(np.random.np.random.randn(5), index=list('abcde'))\n",
    "\n",
    "s['d'] = s['b'] # so there's a tie\n",
    "\n",
    "print (s.rank())"
   ]
  },
  {
   "cell_type": "code",
   "execution_count": 6,
   "metadata": {},
   "outputs": [
    {
     "name": "stdout",
     "output_type": "stream",
     "text": [
      "                   A         B         C         D\n",
      "2020-01-01       NaN       NaN       NaN       NaN\n",
      "2020-01-02       NaN       NaN       NaN       NaN\n",
      "2020-01-03 -0.318408 -0.348414  1.349459  0.662405\n",
      "2020-01-04 -0.717674 -0.346482  1.431678  0.346897\n",
      "2020-01-05 -0.753252  0.257990  1.461283  0.048261\n",
      "2020-01-06 -0.665642  0.239731  1.398891 -0.032376\n",
      "2020-01-07 -0.641328  0.192475  0.879462 -0.079247\n",
      "2020-01-08 -0.988955 -0.101069  0.705262  0.226282\n",
      "2020-01-09 -1.217550 -0.801106  0.078707  0.216745\n",
      "2020-01-10 -0.766576 -0.614906  0.483830  0.280984\n"
     ]
    }
   ],
   "source": [
    "#rolling()\n",
    "#由于窗口大小为3(window)，前两个元素有空值，第三个元素的值将是n，n-1和n-2元素的平均值。这样也可以应用上面提到的各种函数了\n",
    "\n",
    "\n",
    "df = pd.DataFrame(np.random.randn(10, 4),\n",
    "index = pd.date_range('1/1/2020', periods=10),\n",
    "columns = ['A', 'B', 'C', 'D'])\n",
    "\n",
    "print (df.rolling(window=3).mean())"
   ]
  },
  {
   "cell_type": "code",
   "execution_count": 7,
   "metadata": {},
   "outputs": [
    {
     "name": "stdout",
     "output_type": "stream",
     "text": [
      "                   A         B         C         D\n",
      "2018-01-01       NaN       NaN       NaN       NaN\n",
      "2018-01-02       NaN       NaN       NaN       NaN\n",
      "2018-01-03  0.607459 -0.308504  0.640442  0.278022\n",
      "2018-01-04  0.218465 -0.612519  0.670025  0.654113\n",
      "2018-01-05  0.124511 -0.394369  0.421800  0.718804\n",
      "2018-01-06  0.115278 -0.097781  0.284472  0.567943\n",
      "2018-01-07  0.278517 -0.307568  0.416061  0.583707\n",
      "2018-01-08  0.128621 -0.031047  0.380301  0.426821\n",
      "2018-01-09 -0.028891 -0.193105  0.401793  0.278265\n",
      "2018-01-10  0.157166  0.056591  0.426182  0.466246\n"
     ]
    }
   ],
   "source": [
    "#expanding()\n",
    "df = pd.DataFrame(np.random.randn(10, 4),\n",
    "      index = pd.date_range('1/1/2018', periods=10),\n",
    "      columns = ['A', 'B', 'C', 'D'])\n",
    "print (df.expanding(min_periods=3).mean())"
   ]
  },
  {
   "cell_type": "code",
   "execution_count": 9,
   "metadata": {},
   "outputs": [
    {
     "name": "stdout",
     "output_type": "stream",
     "text": [
      "                   A         B         C         D\n",
      "2019-01-01 -0.744444  0.287550  0.086578  1.503840\n",
      "2019-01-02 -0.394166 -0.413574  0.186116  1.584003\n",
      "2019-01-03 -1.764980 -0.156757  1.604677  0.295495\n",
      "2019-01-04 -1.577332 -0.229855 -0.266307 -0.469290\n",
      "2019-01-05 -1.373176 -0.156872  0.006367  0.022902\n",
      "2019-01-06 -0.814470  0.456344 -1.158414  0.479733\n",
      "2019-01-07 -0.338781  0.143559 -0.841279  0.680091\n",
      "2019-01-08 -0.360733  0.262129 -0.129094  0.263991\n",
      "2019-01-09 -0.074885 -0.513720  0.597993  0.736905\n",
      "2019-01-10 -1.102554  0.052161  0.022230 -0.186090\n"
     ]
    }
   ],
   "source": [
    "#ewm():加权求平均\n",
    "#指定com，span，halflife参数，并在其上应用适当的统计函数。它以指数形式分配权重。\n",
    "df = pd.DataFrame(np.random.randn(10, 4),\n",
    "   index = pd.date_range('1/1/2019', periods=10),\n",
    "   columns = ['A', 'B', 'C', 'D'])\n",
    "print (df.ewm(com=0.5).mean())"
   ]
  },
  {
   "cell_type": "code",
   "execution_count": null,
   "metadata": {},
   "outputs": [],
   "source": []
  }
 ],
 "metadata": {
  "kernelspec": {
   "display_name": "Python 3",
   "language": "python",
   "name": "python3"
  },
  "language_info": {
   "codemirror_mode": {
    "name": "ipython",
    "version": 3
   },
   "file_extension": ".py",
   "mimetype": "text/x-python",
   "name": "python",
   "nbconvert_exporter": "python",
   "pygments_lexer": "ipython3",
   "version": "3.7.3"
  }
 },
 "nbformat": 4,
 "nbformat_minor": 2
}
