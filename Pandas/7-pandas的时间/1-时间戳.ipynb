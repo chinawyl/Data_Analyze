{
 "cells": [
  {
   "cell_type": "code",
   "execution_count": 1,
   "metadata": {},
   "outputs": [],
   "source": [
    "import pandas as pd"
   ]
  },
  {
   "cell_type": "code",
   "execution_count": 2,
   "metadata": {},
   "outputs": [
    {
     "name": "stdout",
     "output_type": "stream",
     "text": [
      "2020-03-30 22:55:55.435510\n"
     ]
    }
   ],
   "source": [
    "#获取当前时间\n",
    "print(pd.datetime.now())"
   ]
  },
  {
   "cell_type": "code",
   "execution_count": 3,
   "metadata": {},
   "outputs": [
    {
     "name": "stdout",
     "output_type": "stream",
     "text": [
      "2018-11-01 00:00:00\n"
     ]
    }
   ],
   "source": [
    "#创建一个时间戳\n",
    "time = pd.Timestamp('2018-11-01')\n",
    "print(time)"
   ]
  },
  {
   "cell_type": "code",
   "execution_count": 4,
   "metadata": {},
   "outputs": [
    {
     "name": "stdout",
     "output_type": "stream",
     "text": [
      "[datetime.time(12, 0) datetime.time(12, 30) datetime.time(13, 0)\n",
      " datetime.time(13, 30) datetime.time(14, 0) datetime.time(14, 30)\n",
      " datetime.time(15, 0) datetime.time(15, 30) datetime.time(16, 0)\n",
      " datetime.time(16, 30) datetime.time(17, 0) datetime.time(17, 30)\n",
      " datetime.time(18, 0) datetime.time(18, 30) datetime.time(19, 0)\n",
      " datetime.time(19, 30) datetime.time(20, 0) datetime.time(20, 30)\n",
      " datetime.time(21, 0) datetime.time(21, 30) datetime.time(22, 0)\n",
      " datetime.time(22, 30) datetime.time(23, 0) datetime.time(23, 30)]\n"
     ]
    }
   ],
   "source": [
    "#创建一个时间范围\n",
    "time = pd.date_range(\"12:00\", \"23:59\", freq=\"30min\").time\n",
    "print(time)"
   ]
  },
  {
   "cell_type": "code",
   "execution_count": 5,
   "metadata": {},
   "outputs": [
    {
     "name": "stdout",
     "output_type": "stream",
     "text": [
      "[datetime.time(12, 0) datetime.time(13, 0) datetime.time(14, 0)\n",
      " datetime.time(15, 0) datetime.time(16, 0) datetime.time(17, 0)\n",
      " datetime.time(18, 0) datetime.time(19, 0) datetime.time(20, 0)\n",
      " datetime.time(21, 0) datetime.time(22, 0) datetime.time(23, 0)]\n"
     ]
    }
   ],
   "source": [
    "#改变时间的频率\n",
    "time = pd.date_range(\"12:00\", \"23:59\", freq=\"H\").time\n",
    "print(time)"
   ]
  },
  {
   "cell_type": "code",
   "execution_count": 6,
   "metadata": {},
   "outputs": [
    {
     "name": "stdout",
     "output_type": "stream",
     "text": [
      "0   2009-07-31\n",
      "1   2019-10-10\n",
      "2          NaT\n",
      "dtype: datetime64[ns]\n"
     ]
    }
   ],
   "source": [
    "#转换为时间戳\n",
    "time = pd.to_datetime(pd.Series(['Jul 31, 2009','2019-10-10', None]))\n",
    "print(time)"
   ]
  },
  {
   "cell_type": "code",
   "execution_count": null,
   "metadata": {},
   "outputs": [],
   "source": []
  }
 ],
 "metadata": {
  "kernelspec": {
   "display_name": "Python 3",
   "language": "python",
   "name": "python3"
  },
  "language_info": {
   "codemirror_mode": {
    "name": "ipython",
    "version": 3
   },
   "file_extension": ".py",
   "mimetype": "text/x-python",
   "name": "python",
   "nbconvert_exporter": "python",
   "pygments_lexer": "ipython3",
   "version": "3.7.3"
  }
 },
 "nbformat": 4,
 "nbformat_minor": 2
}
