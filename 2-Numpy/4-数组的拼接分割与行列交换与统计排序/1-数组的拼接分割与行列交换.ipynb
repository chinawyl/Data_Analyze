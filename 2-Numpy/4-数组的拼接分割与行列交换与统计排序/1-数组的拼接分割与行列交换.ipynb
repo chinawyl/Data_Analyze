{
 "cells": [
  {
   "cell_type": "code",
   "execution_count": 1,
   "metadata": {},
   "outputs": [],
   "source": [
    "import numpy as np"
   ]
  },
  {
   "cell_type": "code",
   "execution_count": 2,
   "metadata": {},
   "outputs": [],
   "source": [
    "#本地数据读取\n",
    "us_data = \"./youtube_video_data/US_video_data_numbers.csv\"\n",
    "\n",
    "uk_data = \"./youtube_video_data/GB_video_data_numbers.csv\""
   ]
  },
  {
   "cell_type": "code",
   "execution_count": 3,
   "metadata": {},
   "outputs": [],
   "source": [
    "us_data = np.loadtxt(us_data,delimiter=\",\",dtype=\"int\")\n",
    "\n",
    "uk_data = np.loadtxt(uk_data,delimiter=\",\",dtype=\"int\")"
   ]
  },
  {
   "cell_type": "code",
   "execution_count": 4,
   "metadata": {},
   "outputs": [],
   "source": [
    "#拼接\n",
    "\n",
    "\n",
    "\n",
    "\n"
   ]
  },
  {
   "cell_type": "code",
   "execution_count": 5,
   "metadata": {},
   "outputs": [],
   "source": [
    "#stack,hstack,vstack\n",
    "\n",
    "#添加国家信息\n",
    "#构造全为0和1的数据\n",
    "zeros_data = np.zeros((us_data.shape[0],1)).astype(int)\n",
    "ones_data = np.ones((uk_data.shape[0],1)).astype(int)\n",
    "\n",
    "#分别添加一列全为1,0的数组\n",
    "us_data = np.hstack((us_data,zeros_data)) #hstack为水平拼接,np.stack((us_data,zeros_data),1)\n",
    "uk_data = np.hstack((uk_data,ones_data))\n",
    "\n",
    "#拼接两组数据()\n",
    "final_data = np.vstack((us_data,uk_data)) #vstack为竖直拼接,np.stack((us_data,uk_data),0)"
   ]
  },
  {
   "cell_type": "code",
   "execution_count": 6,
   "metadata": {},
   "outputs": [
    {
     "data": {
      "text/plain": [
       "array([[4394029,  320053,    5931,   46245,       0],\n",
       "       [7860119,  185853,   26679,       0,       0],\n",
       "       [5845909,  576597,   39774,  170708,       0],\n",
       "       ...,\n",
       "       [ 109222,    4840,      35,     212,       1],\n",
       "       [ 626223,   22962,     532,    1559,       1],\n",
       "       [  99228,    1699,      23,     135,       1]])"
      ]
     },
     "execution_count": 6,
     "metadata": {},
     "output_type": "execute_result"
    }
   ],
   "source": [
    "final_data"
   ]
  },
  {
   "cell_type": "code",
   "execution_count": 7,
   "metadata": {},
   "outputs": [
    {
     "name": "stdout",
     "output_type": "stream",
     "text": [
      "[[1 2]\n",
      " [3 4]]\n",
      "\n",
      "[[5 6]\n",
      " [7 8]]\n",
      "\n",
      "[[1 2]\n",
      " [3 4]\n",
      " [5 6]\n",
      " [7 8]]\n",
      "\n",
      "[[1 2 5 6]\n",
      " [3 4 7 8]]\n"
     ]
    }
   ],
   "source": [
    "#concatenate\n",
    "a = np.array([[1,2],[3,4]])\n",
    "b = np.array([[5,6],[7,8]])\n",
    "print(a)\n",
    "print()\n",
    "print(b)\n",
    "print()\n",
    "print(np.concatenate((a,b),axis=0))\n",
    "print()\n",
    "print(np.concatenate((a,b),axis=1))"
   ]
  },
  {
   "cell_type": "code",
   "execution_count": 8,
   "metadata": {},
   "outputs": [],
   "source": [
    "#分割\n",
    "\n",
    "\n",
    "\n",
    "\n"
   ]
  },
  {
   "cell_type": "code",
   "execution_count": 9,
   "metadata": {},
   "outputs": [
    {
     "name": "stdout",
     "output_type": "stream",
     "text": [
      "[0 1 2 3 4 5 6 7 8]\n",
      "\n",
      "[array([0, 1, 2]), array([3, 4, 5]), array([6, 7, 8])]\n",
      "\n",
      "[array([0, 1, 2, 3]), array([4, 5, 6]), array([7, 8])]\n",
      "\n",
      "[[5 6]\n",
      " [7 8]]\n",
      "\n",
      "[array([[ 0,  1,  2],\n",
      "       [ 6,  7,  8],\n",
      "       [12, 13, 14],\n",
      "       [18, 19, 20]]), array([[ 3,  4,  5],\n",
      "       [ 9, 10, 11],\n",
      "       [15, 16, 17],\n",
      "       [21, 22, 23]])]\n",
      "\n",
      "[array([[ 0,  1,  2,  3,  4,  5],\n",
      "       [ 6,  7,  8,  9, 10, 11]]), array([[12, 13, 14, 15, 16, 17],\n",
      "       [18, 19, 20, 21, 22, 23]])]\n",
      "\n"
     ]
    }
   ],
   "source": [
    "#split\n",
    "a = np.arange(9)\n",
    "print(a)\n",
    "print()\n",
    "print(np.split(a,3)) #均等三份\n",
    "print()\n",
    "print(np.split(a,[4,7])) #表明位置分割\n",
    "print()\n",
    "\n",
    "print(b)\n",
    "print()\n",
    "#hsplit,横轴分割\n",
    "b = np.arange(24).reshape(4,6)\n",
    "print(np.hsplit(b,2))\n",
    "print()\n",
    "\n",
    "#vsplit，竖轴分割\n",
    "print(np.vsplit(b,2))\n",
    "print()"
   ]
  },
  {
   "cell_type": "code",
   "execution_count": 10,
   "metadata": {},
   "outputs": [],
   "source": [
    "#行列交换\n",
    "\n",
    "\n",
    "\n",
    "\n"
   ]
  },
  {
   "cell_type": "code",
   "execution_count": 11,
   "metadata": {},
   "outputs": [],
   "source": [
    "#行交换\n",
    "final_data[[1,2],:] = final_data[[2,1],:] "
   ]
  },
  {
   "cell_type": "code",
   "execution_count": 12,
   "metadata": {},
   "outputs": [
    {
     "data": {
      "text/plain": [
       "array([[4394029,  320053,    5931,   46245,       0],\n",
       "       [5845909,  576597,   39774,  170708,       0],\n",
       "       [7860119,  185853,   26679,       0,       0],\n",
       "       ...,\n",
       "       [ 109222,    4840,      35,     212,       1],\n",
       "       [ 626223,   22962,     532,    1559,       1],\n",
       "       [  99228,    1699,      23,     135,       1]])"
      ]
     },
     "execution_count": 12,
     "metadata": {},
     "output_type": "execute_result"
    }
   ],
   "source": [
    "final_data"
   ]
  },
  {
   "cell_type": "code",
   "execution_count": 13,
   "metadata": {},
   "outputs": [],
   "source": [
    "# 列交换\n",
    "final_data[:,[0,2]] = final_data[:,[2,0]]"
   ]
  },
  {
   "cell_type": "code",
   "execution_count": 14,
   "metadata": {},
   "outputs": [
    {
     "data": {
      "text/plain": [
       "array([[   5931,  320053, 4394029,   46245,       0],\n",
       "       [  39774,  576597, 5845909,  170708,       0],\n",
       "       [  26679,  185853, 7860119,       0,       0],\n",
       "       ...,\n",
       "       [     35,    4840,  109222,     212,       1],\n",
       "       [    532,   22962,  626223,    1559,       1],\n",
       "       [     23,    1699,   99228,     135,       1]])"
      ]
     },
     "execution_count": 14,
     "metadata": {},
     "output_type": "execute_result"
    }
   ],
   "source": [
    "final_data"
   ]
  },
  {
   "cell_type": "code",
   "execution_count": null,
   "metadata": {},
   "outputs": [],
   "source": []
  }
 ],
 "metadata": {
  "kernelspec": {
   "display_name": "Python 3",
   "language": "python",
   "name": "python3"
  },
  "language_info": {
   "codemirror_mode": {
    "name": "ipython",
    "version": 3
   },
   "file_extension": ".py",
   "mimetype": "text/x-python",
   "name": "python",
   "nbconvert_exporter": "python",
   "pygments_lexer": "ipython3",
   "version": "3.7.3"
  }
 },
 "nbformat": 4,
 "nbformat_minor": 2
}
