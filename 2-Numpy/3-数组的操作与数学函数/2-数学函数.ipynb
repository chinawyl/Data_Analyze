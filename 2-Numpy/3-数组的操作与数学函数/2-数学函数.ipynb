{
 "cells": [
  {
   "cell_type": "code",
   "execution_count": 1,
   "metadata": {},
   "outputs": [],
   "source": [
    "import numpy as np"
   ]
  },
  {
   "cell_type": "code",
   "execution_count": 2,
   "metadata": {},
   "outputs": [],
   "source": [
    "#三角函数\n",
    "\n",
    "\n",
    "\n",
    "\n"
   ]
  },
  {
   "cell_type": "code",
   "execution_count": 3,
   "metadata": {},
   "outputs": [
    {
     "name": "stdout",
     "output_type": "stream",
     "text": [
      "不同角度的正弦值：\n",
      "[0.         0.5        0.70710678 0.8660254  1.        ]\n",
      "\n",
      "\n",
      "数组中角度的余弦值：\n",
      "[1.00000000e+00 8.66025404e-01 7.07106781e-01 5.00000000e-01\n",
      " 6.12323400e-17]\n",
      "\n",
      "\n",
      "数组中角度的正切值：\n",
      "[0.00000000e+00 5.77350269e-01 1.00000000e+00 1.73205081e+00\n",
      " 1.63312394e+16]\n"
     ]
    }
   ],
   "source": [
    "a = np.array([0,30,45,60,90])\n",
    "print ('不同角度的正弦值：')\n",
    "# 通过乘 pi/180 转化为弧度  \n",
    "print (np.sin(a*np.pi/180))\n",
    "print ('\\n')\n",
    "print ('数组中角度的余弦值：')\n",
    "print (np.cos(a*np.pi/180))\n",
    "print ('\\n')\n",
    "print ('数组中角度的正切值：')\n",
    "print (np.tan(a*np.pi/180))"
   ]
  },
  {
   "cell_type": "code",
   "execution_count": 4,
   "metadata": {},
   "outputs": [
    {
     "name": "stdout",
     "output_type": "stream",
     "text": [
      "含有正弦值的数组：\n",
      "[0.         0.5        0.70710678 0.8660254  1.        ]\n",
      "\n",
      "\n",
      "计算角度的反正弦，返回值以弧度为单位：\n",
      "[0.         0.52359878 0.78539816 1.04719755 1.57079633]\n",
      "\n",
      "\n",
      "通过转化为角度制来检查结果：\n",
      "[ 0. 30. 45. 60. 90.]\n",
      "\n",
      "\n",
      "arccos 和 arctan 函数行为类似：\n",
      "[1.00000000e+00 8.66025404e-01 7.07106781e-01 5.00000000e-01\n",
      " 6.12323400e-17]\n",
      "\n",
      "\n",
      "反余弦：\n",
      "[0.         0.52359878 0.78539816 1.04719755 1.57079633]\n",
      "\n",
      "\n",
      "角度制单位：\n",
      "[ 0. 30. 45. 60. 90.]\n",
      "\n",
      "\n",
      "tan 函数：\n",
      "[0.00000000e+00 5.77350269e-01 1.00000000e+00 1.73205081e+00\n",
      " 1.63312394e+16]\n",
      "\n",
      "\n",
      "反正切：\n",
      "[0.         0.52359878 0.78539816 1.04719755 1.57079633]\n",
      "\n",
      "\n",
      "角度制单位：\n",
      "[ 0. 30. 45. 60. 90.]\n"
     ]
    }
   ],
   "source": [
    "a = np.array([0,30,45,60,90])  \n",
    "print ('含有正弦值的数组：')\n",
    "sin = np.sin(a*np.pi/180)  \n",
    "print (sin)\n",
    "print ('\\n')\n",
    "print ('计算角度的反正弦，返回值以弧度为单位：')\n",
    "inv = np.arcsin(sin)  \n",
    "print (inv)\n",
    "print ('\\n')\n",
    "print ('通过转化为角度制来检查结果：')\n",
    "print (np.degrees(inv))\n",
    "print ('\\n')\n",
    "print ('arccos 和 arctan 函数行为类似：')\n",
    "cos = np.cos(a*np.pi/180)  \n",
    "print (cos)\n",
    "print ('\\n')\n",
    "print ('反余弦：')\n",
    "inv = np.arccos(cos)  \n",
    "print (inv)\n",
    "print ('\\n')\n",
    "print ('角度制单位：')\n",
    "print (np.degrees(inv))\n",
    "print ('\\n')\n",
    "print ('tan 函数：')\n",
    "tan = np.tan(a*np.pi/180)  \n",
    "print (tan)\n",
    "print ('\\n')\n",
    "print ('反正切：')\n",
    "inv = np.arctan(tan)  \n",
    "print (inv)\n",
    "print ('\\n')\n",
    "print ('角度制单位：')\n",
    "print (np.degrees(inv))"
   ]
  },
  {
   "cell_type": "code",
   "execution_count": 5,
   "metadata": {},
   "outputs": [],
   "source": [
    "#舍入函数\n",
    "\n",
    "\n",
    "\n",
    "\n"
   ]
  },
  {
   "cell_type": "code",
   "execution_count": 6,
   "metadata": {},
   "outputs": [
    {
     "name": "stdout",
     "output_type": "stream",
     "text": [
      "原数组：\n",
      "[  1.      5.55  123.      0.567  25.532]\n",
      "\n",
      "\n",
      "舍入后：\n",
      "[  1.   6. 123.   1.  26.]\n",
      "[  1.    5.6 123.    0.6  25.5]\n",
      "[  0.  10. 120.   0.  30.]\n"
     ]
    }
   ],
   "source": [
    "#numpy.around() 函数返回指定数字的四舍五入值\n",
    "#numpy.around(a,decimals),a: 数组,decimals: 舍入的小数位数。 默认值为0。 如果为负，整数将四舍五入到小数点左侧的位置\n",
    "import numpy as np\n",
    " \n",
    "a = np.array([1.0,5.55,  123,  0.567,  25.532])  \n",
    "print  ('原数组：')\n",
    "print (a)\n",
    "print ('\\n')\n",
    "print ('舍入后：')\n",
    "print (np.around(a))\n",
    "print (np.around(a, decimals =  1))\n",
    "print (np.around(a, decimals =  -1))"
   ]
  },
  {
   "cell_type": "code",
   "execution_count": 7,
   "metadata": {},
   "outputs": [
    {
     "name": "stdout",
     "output_type": "stream",
     "text": [
      "提供的数组：\n",
      "[-1.7  1.5 -0.2  0.6 10. ]\n",
      "\n",
      "\n",
      "修改后的数组：\n",
      "[-2.  1. -1.  0. 10.]\n"
     ]
    }
   ],
   "source": [
    "#numpy.floor() 返回小于或者等于指定表达式的最大整数，即向下取整\n",
    "a = np.array([-1.7,  1.5,  -0.2,  0.6,  10])\n",
    "print ('提供的数组：')\n",
    "print (a)\n",
    "print ('\\n')\n",
    "print ('修改后的数组：')\n",
    "print (np.floor(a))"
   ]
  },
  {
   "cell_type": "code",
   "execution_count": 8,
   "metadata": {},
   "outputs": [
    {
     "name": "stdout",
     "output_type": "stream",
     "text": [
      "提供的数组：\n",
      "[-1.7  1.5 -0.2  0.6 10. ]\n",
      "\n",
      "\n",
      "修改后的数组：\n",
      "[-1.  2. -0.  1. 10.]\n"
     ]
    }
   ],
   "source": [
    "#numpy.ceil() 返回大于或者等于指定表达式的最小整数，即向上取整\n",
    "a = np.array([-1.7,  1.5,  -0.2,  0.6,  10])  \n",
    "print  ('提供的数组：')\n",
    "print (a)\n",
    "print ('\\n')\n",
    "print ('修改后的数组：')\n",
    "print (np.ceil(a))"
   ]
  },
  {
   "cell_type": "code",
   "execution_count": 9,
   "metadata": {},
   "outputs": [],
   "source": [
    "#算术函数\n",
    "\n",
    "\n",
    "\n",
    "\n"
   ]
  },
  {
   "cell_type": "code",
   "execution_count": 10,
   "metadata": {},
   "outputs": [
    {
     "name": "stdout",
     "output_type": "stream",
     "text": [
      "第一个数组：\n",
      "[[0. 1. 2.]\n",
      " [3. 4. 5.]\n",
      " [6. 7. 8.]]\n",
      "\n",
      "\n",
      "第二个数组：\n",
      "[10 10 10]\n",
      "\n",
      "\n",
      "两个数组相加：\n",
      "[[10. 11. 12.]\n",
      " [13. 14. 15.]\n",
      " [16. 17. 18.]]\n",
      "\n",
      "\n",
      "两个数组相减：\n",
      "[[-10.  -9.  -8.]\n",
      " [ -7.  -6.  -5.]\n",
      " [ -4.  -3.  -2.]]\n",
      "\n",
      "\n",
      "两个数组相乘：\n",
      "[[ 0. 10. 20.]\n",
      " [30. 40. 50.]\n",
      " [60. 70. 80.]]\n",
      "\n",
      "\n",
      "两个数组相除：\n",
      "[[0.  0.1 0.2]\n",
      " [0.3 0.4 0.5]\n",
      " [0.6 0.7 0.8]]\n"
     ]
    }
   ],
   "source": [
    "#加减乘除: add()，subtract()，multiply() 和 divide()\n",
    "a = np.arange(9, dtype = np.float_).reshape(3,3)  \n",
    "print ('第一个数组：')\n",
    "print (a)\n",
    "print ('\\n')\n",
    "print ('第二个数组：')\n",
    "b = np.array([10,10,10])  \n",
    "print (b)\n",
    "print ('\\n')\n",
    "print ('两个数组相加：')\n",
    "print (np.add(a,b))\n",
    "print ('\\n')\n",
    "print ('两个数组相减：')\n",
    "print (np.subtract(a,b))\n",
    "print ('\\n')\n",
    "print ('两个数组相乘：')\n",
    "print (np.multiply(a,b))\n",
    "print ('\\n')\n",
    "print ('两个数组相除：')\n",
    "print (np.divide(a,b))"
   ]
  },
  {
   "cell_type": "code",
   "execution_count": 11,
   "metadata": {},
   "outputs": [
    {
     "name": "stdout",
     "output_type": "stream",
     "text": [
      "我们的数组是：\n",
      "[  0.25   1.33   1.   100.  ]\n",
      "\n",
      "\n",
      "调用 reciprocal 函数：\n",
      "[4.        0.7518797 1.        0.01     ]\n"
     ]
    }
   ],
   "source": [
    "#numpy.reciprocal() 函数返回参数逐元素的倒数。如 1/4 倒数为 4/1\n",
    "a = np.array([0.25,  1.33,  1,  100])  \n",
    "print ('我们的数组是：')\n",
    "print (a)\n",
    "print ('\\n')\n",
    "print ('调用 reciprocal 函数：')\n",
    "print (np.reciprocal(a))"
   ]
  },
  {
   "cell_type": "code",
   "execution_count": 12,
   "metadata": {},
   "outputs": [
    {
     "name": "stdout",
     "output_type": "stream",
     "text": [
      "我们的数组是；\n",
      "[  10  100 1000]\n",
      "\n",
      "\n",
      "调用 power 函数：\n",
      "[    100   10000 1000000]\n",
      "\n",
      "\n",
      "第二个数组：\n",
      "[1 2 3]\n",
      "\n",
      "\n",
      "再次调用 power 函数：\n",
      "[        10      10000 1000000000]\n"
     ]
    }
   ],
   "source": [
    "#numpy.power() 函数将第一个输入数组中的元素作为底数，计算它与第二个输入数组中相应元素的幂\n",
    "a = np.array([10,100,1000])  \n",
    "print ('我们的数组是；')\n",
    "print (a)\n",
    "print ('\\n') \n",
    "print ('调用 power 函数：')\n",
    "print (np.power(a,2))\n",
    "print ('\\n')\n",
    "print ('第二个数组：')\n",
    "b = np.array([1,2,3])  \n",
    "print (b)\n",
    "print ('\\n')\n",
    "print ('再次调用 power 函数：')\n",
    "print (np.power(a,b))"
   ]
  },
  {
   "cell_type": "code",
   "execution_count": 13,
   "metadata": {},
   "outputs": [
    {
     "name": "stdout",
     "output_type": "stream",
     "text": [
      "第一个数组：\n",
      "[10 20 30]\n",
      "\n",
      "\n",
      "第二个数组：\n",
      "[3 5 7]\n",
      "\n",
      "\n",
      "调用 mod() 函数：\n",
      "[1 0 2]\n",
      "\n",
      "\n",
      "调用 remainder() 函数：\n",
      "[1 0 2]\n"
     ]
    }
   ],
   "source": [
    "#numpy.mod() 计算输入数组中相应元素的相除后的余数。 函数 numpy.remainder() 也产生相同的结果\n",
    "a = np.array([10,20,30]) \n",
    "b = np.array([3,5,7])  \n",
    "print ('第一个数组：')\n",
    "print (a)\n",
    "print ('\\n')\n",
    "print ('第二个数组：')\n",
    "print (b)\n",
    "print ('\\n')\n",
    "print ('调用 mod() 函数：')\n",
    "print (np.mod(a,b))\n",
    "print ('\\n')\n",
    "print ('调用 remainder() 函数：')\n",
    "print (np.remainder(a,b))"
   ]
  },
  {
   "cell_type": "code",
   "execution_count": null,
   "metadata": {},
   "outputs": [],
   "source": []
  }
 ],
 "metadata": {
  "kernelspec": {
   "display_name": "Python 3",
   "language": "python",
   "name": "python3"
  },
  "language_info": {
   "codemirror_mode": {
    "name": "ipython",
    "version": 3
   },
   "file_extension": ".py",
   "mimetype": "text/x-python",
   "name": "python",
   "nbconvert_exporter": "python",
   "pygments_lexer": "ipython3",
   "version": "3.7.3"
  }
 },
 "nbformat": 4,
 "nbformat_minor": 2
}
