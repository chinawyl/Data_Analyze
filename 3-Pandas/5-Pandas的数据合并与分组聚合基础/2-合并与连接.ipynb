{
 "cells": [
  {
   "cell_type": "code",
   "execution_count": 1,
   "metadata": {},
   "outputs": [],
   "source": [
    "import pandas as pd"
   ]
  },
  {
   "cell_type": "code",
   "execution_count": 2,
   "metadata": {
    "collapsed": true
   },
   "outputs": [
    {
     "data": {
      "text/plain": [
       "\"\\npd.merge(left, right, how='inner', on=None, left_on=None, right_on=None,\\nleft_index=False, right_index=False, sort=True)\\n\\n\\nleft - 一个DataFrame对象\\nright - 另一个DataFrame对象\\non - 列(名称)连接，必须在左和右DataFrame对象中存在(找到)\\nleft_on - 左侧DataFrame中的列用作键，可以是列名或长度等于DataFrame长度的数组\\nright_on - 来自右的DataFrame的列作为键，可以是列名或长度等于DataFrame长度的数组\\nleft_index - 如果为True，则使用左侧DataFrame中的索引(行标签)作为其连接键\\n在具有MultiIndex(分层)的DataFrame的情况下，级别的数量必须与来自右DataFrame的连接键的数量相匹配\\nright_index - 与右DataFrame的left_index具有相同的用法\\nhow - 它是left, right, outer以及inner之中的一个，默认为内inner\\n下面将介绍每种方法的用法。sort - 按照字典顺序通过连接键对结果DataFrame进行排序\\n默认为True，设置为False时，在很多情况下大大提高性能。\\n\""
      ]
     },
     "execution_count": 2,
     "metadata": {},
     "output_type": "execute_result"
    }
   ],
   "source": [
    "'''\n",
    "pd.merge(left, right, how='inner', on=None, left_on=None, right_on=None,\n",
    "left_index=False, right_index=False, sort=True)\n",
    "\n",
    "\n",
    "left - 一个DataFrame对象\n",
    "right - 另一个DataFrame对象\n",
    "on - 列(名称)连接，必须在左和右DataFrame对象中存在(找到)\n",
    "left_on - 左侧DataFrame中的列用作键，可以是列名或长度等于DataFrame长度的数组\n",
    "right_on - 来自右的DataFrame的列作为键，可以是列名或长度等于DataFrame长度的数组\n",
    "left_index - 如果为True，则使用左侧DataFrame中的索引(行标签)作为其连接键\n",
    "在具有MultiIndex(分层)的DataFrame的情况下，级别的数量必须与来自右DataFrame的连接键的数量相匹配\n",
    "right_index - 与右DataFrame的left_index具有相同的用法\n",
    "how - 它是left, right, outer以及inner之中的一个，默认为内inner\n",
    "下面将介绍每种方法的用法。sort - 按照字典顺序通过连接键对结果DataFrame进行排序\n",
    "默认为True，设置为False时，在很多情况下大大提高性能。\n",
    "'''"
   ]
  },
  {
   "cell_type": "code",
   "execution_count": 3,
   "metadata": {},
   "outputs": [
    {
     "name": "stdout",
     "output_type": "stream",
     "text": [
      "   id    Name subject_id\n",
      "0   1    Alex       sub1\n",
      "1   2     Amy       sub2\n",
      "2   3   Allen       sub4\n",
      "3   4   Alice       sub6\n",
      "4   5  Ayoung       sub5\n",
      "\n",
      "   id   Name subject_id\n",
      "0   1  Billy       sub2\n",
      "1   2  Brian       sub4\n",
      "2   3   Bran       sub3\n",
      "3   4  Bryce       sub6\n",
      "4   5  Betty       sub5\n",
      "\n",
      "   id  Name_x subject_id_x Name_y subject_id_y\n",
      "0   1    Alex         sub1  Billy         sub2\n",
      "1   2     Amy         sub2  Brian         sub4\n",
      "2   3   Allen         sub4   Bran         sub3\n",
      "3   4   Alice         sub6  Bryce         sub6\n",
      "4   5  Ayoung         sub5  Betty         sub5\n"
     ]
    }
   ],
   "source": [
    "left = pd.DataFrame({\n",
    "         'id':[1,2,3,4,5],\n",
    "         'Name': ['Alex', 'Amy', 'Allen', 'Alice', 'Ayoung'],\n",
    "         'subject_id':['sub1','sub2','sub4','sub6','sub5']})\n",
    "right = pd.DataFrame(\n",
    "         {'id':[1,2,3,4,5],\n",
    "         'Name': ['Billy', 'Brian', 'Bran', 'Bryce', 'Betty'],\n",
    "         'subject_id':['sub2','sub4','sub3','sub6','sub5']})\n",
    "print(left)\n",
    "print()\n",
    "print(right)\n",
    "print()\n",
    "rs = pd.merge(left,right,on='id')\n",
    "print(rs)\n"
   ]
  },
  {
   "cell_type": "code",
   "execution_count": 4,
   "metadata": {
    "collapsed": true
   },
   "outputs": [
    {
     "data": {
      "text/plain": [
       "'\\n\\nleft\\nLEFT OUTER JOIN\\n使用左侧对象的键\\n\\n\\nright\\nRIGHT OUTER JOIN\\n使用右侧对象的键\\n\\n\\nouter\\nFULL OUTER JOIN\\n使用键的联合\\n\\n\\ninner\\nINNER JOIN\\n使用键的交集\\n\\n'"
      ]
     },
     "execution_count": 4,
     "metadata": {},
     "output_type": "execute_result"
    }
   ],
   "source": [
    "'''\n",
    "\n",
    "left\n",
    "LEFT OUTER JOIN\n",
    "使用左侧对象的键\n",
    "\n",
    "\n",
    "right\n",
    "RIGHT OUTER JOIN\n",
    "使用右侧对象的键\n",
    "\n",
    "\n",
    "outer\n",
    "FULL OUTER JOIN\n",
    "使用键的联合\n",
    "\n",
    "\n",
    "inner\n",
    "INNER JOIN\n",
    "使用键的交集\n",
    "\n",
    "'''"
   ]
  },
  {
   "cell_type": "code",
   "execution_count": 5,
   "metadata": {},
   "outputs": [
    {
     "name": "stdout",
     "output_type": "stream",
     "text": [
      "   id_x  Name_x subject_id  id_y Name_y\n",
      "0     1    Alex       sub1   NaN    NaN\n",
      "1     2     Amy       sub2   1.0  Billy\n",
      "2     3   Allen       sub4   2.0  Brian\n",
      "3     4   Alice       sub6   4.0  Bryce\n",
      "4     5  Ayoung       sub5   5.0  Betty\n",
      "\n",
      "   id_x  Name_x subject_id  id_y Name_y\n",
      "0   2.0     Amy       sub2     1  Billy\n",
      "1   3.0   Allen       sub4     2  Brian\n",
      "2   4.0   Alice       sub6     4  Bryce\n",
      "3   5.0  Ayoung       sub5     5  Betty\n",
      "4   NaN     NaN       sub3     3   Bran\n",
      "\n",
      "   id_x  Name_x subject_id  id_y Name_y\n",
      "0   1.0    Alex       sub1   NaN    NaN\n",
      "1   2.0     Amy       sub2   1.0  Billy\n",
      "2   3.0   Allen       sub4   2.0  Brian\n",
      "3   4.0   Alice       sub6   4.0  Bryce\n",
      "4   5.0  Ayoung       sub5   5.0  Betty\n",
      "5   NaN     NaN       sub3   3.0   Bran\n",
      "\n",
      "   id_x  Name_x subject_id  id_y Name_y\n",
      "0     2     Amy       sub2     1  Billy\n",
      "1     3   Allen       sub4     2  Brian\n",
      "2     4   Alice       sub6     4  Bryce\n",
      "3     5  Ayoung       sub5     5  Betty\n",
      "\n"
     ]
    }
   ],
   "source": [
    "#Left Join\n",
    "rs = pd.merge(left, right, on='subject_id', how='left')\n",
    "print (rs)\n",
    "print()\n",
    "\n",
    "#Right Join\n",
    "rs = pd.merge(left, right, on='subject_id', how='right')\n",
    "print (rs)\n",
    "print()\n",
    "\n",
    "#Outer Join\n",
    "rs = pd.merge(left, right, how='outer', on='subject_id')\n",
    "print (rs)\n",
    "print()\n",
    "\n",
    "#Inner Join\n",
    "rs = pd.merge(left, right, on='subject_id', how='inner')\n",
    "print (rs)\n",
    "print()"
   ]
  },
  {
   "cell_type": "code",
   "execution_count": null,
   "metadata": {},
   "outputs": [],
   "source": []
  }
 ],
 "metadata": {
  "kernelspec": {
   "display_name": "Python 3",
   "language": "python",
   "name": "python3"
  },
  "language_info": {
   "codemirror_mode": {
    "name": "ipython",
    "version": 3
   },
   "file_extension": ".py",
   "mimetype": "text/x-python",
   "name": "python",
   "nbconvert_exporter": "python",
   "pygments_lexer": "ipython3",
   "version": "3.7.3"
  }
 },
 "nbformat": 4,
 "nbformat_minor": 2
}
