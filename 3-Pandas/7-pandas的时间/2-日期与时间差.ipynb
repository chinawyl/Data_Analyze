{
 "cells": [
  {
   "cell_type": "code",
   "execution_count": 1,
   "metadata": {},
   "outputs": [],
   "source": [
    "import pandas as pd"
   ]
  },
  {
   "cell_type": "code",
   "execution_count": 2,
   "metadata": {},
   "outputs": [
    {
     "name": "stdout",
     "output_type": "stream",
     "text": [
      "DatetimeIndex(['2020-11-21', '2020-11-22', '2020-11-23', '2020-11-24',\n",
      "               '2020-11-25'],\n",
      "              dtype='datetime64[ns]', freq='D')\n"
     ]
    }
   ],
   "source": [
    "#创建一个日期范围\n",
    "datelist = pd.date_range('2020/11/21', periods=5)\n",
    "print(datelist)"
   ]
  },
  {
   "cell_type": "code",
   "execution_count": 3,
   "metadata": {},
   "outputs": [
    {
     "name": "stdout",
     "output_type": "stream",
     "text": [
      "DatetimeIndex(['2020-11-30', '2020-12-31', '2021-01-31', '2021-02-28',\n",
      "               '2021-03-31'],\n",
      "              dtype='datetime64[ns]', freq='M')\n"
     ]
    }
   ],
   "source": [
    "#更改日期频率\n",
    "datelist = pd.date_range('2020/11/21', periods=5,freq='M')\n",
    "print(datelist)"
   ]
  },
  {
   "cell_type": "code",
   "execution_count": 4,
   "metadata": {},
   "outputs": [
    {
     "name": "stdout",
     "output_type": "stream",
     "text": [
      "DatetimeIndex(['2011-11-03', '2011-11-04', '2011-11-05', '2011-11-06',\n",
      "               '2011-11-07'],\n",
      "              dtype='datetime64[ns]', freq='D')\n"
     ]
    }
   ],
   "source": [
    "#bdate_range():不包括星期六和星期天\n",
    "datelist = pd.date_range('2011/11/03', periods=5)\n",
    "print(datelist)"
   ]
  },
  {
   "cell_type": "code",
   "execution_count": 5,
   "metadata": {},
   "outputs": [
    {
     "name": "stdout",
     "output_type": "stream",
     "text": [
      "2 days 02:15:30\n"
     ]
    }
   ],
   "source": [
    "#字符串\n",
    "timediff = pd.Timedelta('2 days 2 hours 15 minutes 30 seconds')\n",
    "print(timediff)"
   ]
  },
  {
   "cell_type": "code",
   "execution_count": 6,
   "metadata": {},
   "outputs": [
    {
     "name": "stdout",
     "output_type": "stream",
     "text": [
      "0 days 06:00:00\n"
     ]
    }
   ],
   "source": [
    "#整数\n",
    "timediff = pd.Timedelta(6,unit='h')\n",
    "print(timediff)"
   ]
  },
  {
   "cell_type": "code",
   "execution_count": 7,
   "metadata": {},
   "outputs": [
    {
     "name": "stdout",
     "output_type": "stream",
     "text": [
      "2 days 00:00:00\n"
     ]
    }
   ],
   "source": [
    "#数据偏移\n",
    "timediff = pd.Timedelta(days=2)\n",
    "print(timediff)"
   ]
  },
  {
   "cell_type": "code",
   "execution_count": 8,
   "metadata": {},
   "outputs": [
    {
     "name": "stdout",
     "output_type": "stream",
     "text": [
      "           A      B\n",
      "0 2012-01-01 0 days\n",
      "1 2012-01-02 1 days\n",
      "2 2012-01-03 2 days\n"
     ]
    }
   ],
   "source": [
    "#运算操作\n",
    "s = pd.Series(pd.date_range('2012-1-1', periods=3, freq='D'))\n",
    "td = pd.Series([ pd.Timedelta(days=i) for i in range(3) ])\n",
    "df = pd.DataFrame(dict(A = s, B = td))\n",
    "print(df)"
   ]
  },
  {
   "cell_type": "code",
   "execution_count": 9,
   "metadata": {},
   "outputs": [
    {
     "name": "stdout",
     "output_type": "stream",
     "text": [
      "           A      B          C\n",
      "0 2018-01-01 0 days 2018-01-01\n",
      "1 2018-01-02 1 days 2018-01-03\n",
      "2 2018-01-03 2 days 2018-01-05\n"
     ]
    }
   ],
   "source": [
    "#相加操作\n",
    "s = pd.Series(pd.date_range('2018-1-1', periods=3, freq='D'))\n",
    "td = pd.Series([ pd.Timedelta(days=i) for i in range(3) ])\n",
    "df = pd.DataFrame(dict(A = s, B = td))\n",
    "df['C']=df['A']+df['B']\n",
    "print(df)"
   ]
  },
  {
   "cell_type": "code",
   "execution_count": 10,
   "metadata": {},
   "outputs": [
    {
     "name": "stdout",
     "output_type": "stream",
     "text": [
      "           A      B          C          D\n",
      "0 2012-01-01 0 days 2012-01-01 2012-01-01\n",
      "1 2012-01-02 1 days 2012-01-03 2012-01-02\n",
      "2 2012-01-03 2 days 2012-01-05 2012-01-03\n"
     ]
    }
   ],
   "source": [
    "#相减操作\n",
    "s = pd.Series(pd.date_range('2012-1-1', periods=3, freq='D'))\n",
    "td = pd.Series([ pd.Timedelta(days=i) for i in range(3) ])\n",
    "df = pd.DataFrame(dict(A = s, B = td))\n",
    "df['C']=df['A']+df['B']\n",
    "df['D']=df['C']-df['B']\n",
    "print(df)"
   ]
  },
  {
   "cell_type": "code",
   "execution_count": null,
   "metadata": {},
   "outputs": [],
   "source": []
  }
 ],
 "metadata": {
  "kernelspec": {
   "display_name": "Python 3",
   "language": "python",
   "name": "python3"
  },
  "language_info": {
   "codemirror_mode": {
    "name": "ipython",
    "version": 3
   },
   "file_extension": ".py",
   "mimetype": "text/x-python",
   "name": "python",
   "nbconvert_exporter": "python",
   "pygments_lexer": "ipython3",
   "version": "3.7.3"
  }
 },
 "nbformat": 4,
 "nbformat_minor": 2
}
