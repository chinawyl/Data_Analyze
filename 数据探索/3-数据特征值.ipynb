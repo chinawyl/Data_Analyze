{
 "cells": [
  {
   "cell_type": "code",
   "execution_count": 1,
   "metadata": {},
   "outputs": [],
   "source": [
    "import numpy as np\n",
    "import pandas as pd\n",
    "from matplotlib import pyplot as plt\n",
    "plt.rcParams['font.sans-serif'] = ['SimHei']\n",
    "plt.rcParams['axes.unicode_minus'] = False"
   ]
  },
  {
   "cell_type": "code",
   "execution_count": 2,
   "metadata": {},
   "outputs": [],
   "source": [
    "# 一、分布分析\n",
    "\n",
    "\n"
   ]
  },
  {
   "cell_type": "code",
   "execution_count": 3,
   "metadata": {},
   "outputs": [
    {
     "data": {
      "text/html": [
       "<div>\n",
       "<style scoped>\n",
       "    .dataframe tbody tr th:only-of-type {\n",
       "        vertical-align: middle;\n",
       "    }\n",
       "\n",
       "    .dataframe tbody tr th {\n",
       "        vertical-align: top;\n",
       "    }\n",
       "\n",
       "    .dataframe thead th {\n",
       "        text-align: right;\n",
       "    }\n",
       "</style>\n",
       "<table border=\"1\" class=\"dataframe\">\n",
       "  <thead>\n",
       "    <tr style=\"text-align: right;\">\n",
       "      <th></th>\n",
       "      <th>1</th>\n",
       "    </tr>\n",
       "    <tr>\n",
       "      <th>0</th>\n",
       "      <th></th>\n",
       "    </tr>\n",
       "  </thead>\n",
       "  <tbody>\n",
       "    <tr>\n",
       "      <th>2014-04-01</th>\n",
       "      <td>420</td>\n",
       "    </tr>\n",
       "    <tr>\n",
       "      <th>2014-04-02</th>\n",
       "      <td>900</td>\n",
       "    </tr>\n",
       "    <tr>\n",
       "      <th>2014-04-03</th>\n",
       "      <td>1290</td>\n",
       "    </tr>\n",
       "    <tr>\n",
       "      <th>2014-04-04</th>\n",
       "      <td>420</td>\n",
       "    </tr>\n",
       "    <tr>\n",
       "      <th>2014-04-05</th>\n",
       "      <td>1710</td>\n",
       "    </tr>\n",
       "  </tbody>\n",
       "</table>\n",
       "</div>"
      ],
      "text/plain": [
       "               1\n",
       "0               \n",
       "2014-04-01   420\n",
       "2014-04-02   900\n",
       "2014-04-03  1290\n",
       "2014-04-04   420\n",
       "2014-04-05  1710"
      ]
     },
     "execution_count": 3,
     "metadata": {},
     "output_type": "execute_result"
    }
   ],
   "source": [
    "# 1.生鱼片销售情况\n",
    "data = pd.read_excel('../数据探索/实验数据/catering_fish_congee.xls',header = None,index_col=0)\n",
    "data.head()"
   ]
  },
  {
   "cell_type": "code",
   "execution_count": 4,
   "metadata": {},
   "outputs": [
    {
     "data": {
      "image/png": "[encoded data removed]",
      "text/plain": [
       "<Figure size 432x288 with 1 Axes>"
      ]
     },
     "metadata": {
      "needs_background": "light"
     },
     "output_type": "display_data"
    }
   ],
   "source": [
    "bins = np.arange(0,4001,400)\n",
    "p = plt.hist(data.values,bins,rwidth=0.8)"
   ]
  },
  {
   "cell_type": "code",
   "execution_count": 5,
   "metadata": {},
   "outputs": [
    {
     "data": {
      "text/html": [
       "<div>\n",
       "<style scoped>\n",
       "    .dataframe tbody tr th:only-of-type {\n",
       "        vertical-align: middle;\n",
       "    }\n",
       "\n",
       "    .dataframe tbody tr th {\n",
       "        vertical-align: top;\n",
       "    }\n",
       "\n",
       "    .dataframe thead th {\n",
       "        text-align: right;\n",
       "    }\n",
       "</style>\n",
       "<table border=\"1\" class=\"dataframe\">\n",
       "  <thead>\n",
       "    <tr style=\"text-align: right;\">\n",
       "      <th></th>\n",
       "      <th>平时成绩</th>\n",
       "      <th>末考成绩</th>\n",
       "    </tr>\n",
       "    <tr>\n",
       "      <th>用户名</th>\n",
       "      <th></th>\n",
       "      <th></th>\n",
       "    </tr>\n",
       "  </thead>\n",
       "  <tbody>\n",
       "    <tr>\n",
       "      <th>1</th>\n",
       "      <td>74</td>\n",
       "      <td>77</td>\n",
       "    </tr>\n",
       "    <tr>\n",
       "      <th>2</th>\n",
       "      <td>95</td>\n",
       "      <td>80</td>\n",
       "    </tr>\n",
       "    <tr>\n",
       "      <th>3</th>\n",
       "      <td>93</td>\n",
       "      <td>69</td>\n",
       "    </tr>\n",
       "    <tr>\n",
       "      <th>4</th>\n",
       "      <td>76</td>\n",
       "      <td>67</td>\n",
       "    </tr>\n",
       "    <tr>\n",
       "      <th>5</th>\n",
       "      <td>91</td>\n",
       "      <td>79</td>\n",
       "    </tr>\n",
       "  </tbody>\n",
       "</table>\n",
       "</div>"
      ],
      "text/plain": [
       "     平时成绩  末考成绩\n",
       "用户名            \n",
       "1      74    77\n",
       "2      95    80\n",
       "3      93    69\n",
       "4      76    67\n",
       "5      91    79"
      ]
     },
     "execution_count": 5,
     "metadata": {},
     "output_type": "execute_result"
    }
   ],
   "source": [
    "# 2.查看学生成绩是否符合正态分布\n",
    "data = pd.read_excel('../数据探索/实验数据/在线考试成绩.xls',header=0,index_col=0)\n",
    "bins = np.arange(0,101,10)\n",
    "data.head()"
   ]
  },
  {
   "cell_type": "code",
   "execution_count": 6,
   "metadata": {},
   "outputs": [
    {
     "data": {
      "image/png": "[encoded data removed]",
      "text/plain": [
       "<Figure size 432x288 with 1 Axes>"
      ]
     },
     "metadata": {
      "needs_background": "light"
     },
     "output_type": "display_data"
    }
   ],
   "source": [
    "p = plt.hist(data['平时成绩'],bins,rwidth=0.8)"
   ]
  },
  {
   "cell_type": "code",
   "execution_count": 7,
   "metadata": {},
   "outputs": [
    {
     "data": {
      "image/png": "[encoded data removed]",
      "text/plain": [
       "<Figure size 432x288 with 1 Axes>"
      ]
     },
     "metadata": {
      "needs_background": "light"
     },
     "output_type": "display_data"
    }
   ],
   "source": [
    "p = plt.hist(data['末考成绩'],bins,rwidth=0.8)"
   ]
  },
  {
   "cell_type": "code",
   "execution_count": 8,
   "metadata": {},
   "outputs": [],
   "source": [
    "# 二、对比分析\n",
    "\n",
    "\n"
   ]
  },
  {
   "cell_type": "code",
   "execution_count": 9,
   "metadata": {},
   "outputs": [
    {
     "data": {
      "image/png": "[encoded data removed]",
      "text/plain": [
       "<Figure size 432x288 with 1 Axes>"
      ]
     },
     "metadata": {
      "needs_background": "light"
     },
     "output_type": "display_data"
    }
   ],
   "source": [
    "# 1.结构相对数(绝对小于1)\n",
    "\n",
    "#恩格尔系数\n",
    "data = pd.read_excel('../数据探索/实验数据/我国恩格尔系数至2014.xls',header=0,index_col=0)\n",
    "data.plot()\n",
    "plt.show()"
   ]
  },
  {
   "cell_type": "code",
   "execution_count": 10,
   "metadata": {},
   "outputs": [
    {
     "data": {
      "image/png": "[encoded data removed]",
      "text/plain": [
       "<Figure size 432x288 with 2 Axes>"
      ]
     },
     "metadata": {
      "needs_background": "light"
     },
     "output_type": "display_data"
    }
   ],
   "source": [
    "# 2.比例相对数(可以大于1)\n",
    "#人口占比\n",
    "data = pd.read_excel('../数据探索/实验数据/人口比重统计.xls',header=0,index_col=0)\n",
    "\n",
    "data['男女比例'] = data['人口数(男)']/data['人口数(女)']\n",
    "data['城乡比例'] = data['人口数(城镇)']/data['人口数(乡村)']\n",
    "\n",
    "fig,ax1=plt.subplots()\n",
    "\n",
    "ax1.plot(data['男女比例'],color='b',label='男女比例')\n",
    "ax1.set_xlabel('年份')\n",
    "ax1.set_ylabel('男女比例')\n",
    "ax1.legend(loc='upper left')\n",
    "\n",
    "ax2=ax1.twinx()\n",
    "ax2.plot(data['城乡比例'],color='y',label='城乡比例')\n",
    "ax2.set_ylabel('城乡比例')\n",
    "ax2.legend(loc='upper right')\n",
    "\n",
    "plt.show()"
   ]
  },
  {
   "cell_type": "code",
   "execution_count": 11,
   "metadata": {},
   "outputs": [
    {
     "data": {
      "image/png": "[encoded data removed]",
      "text/plain": [
       "<Figure size 432x288 with 1 Axes>"
      ]
     },
     "metadata": {
      "needs_background": "light"
     },
     "output_type": "display_data"
    }
   ],
   "source": [
    "# 3.比较相对数\n",
    "\n",
    "#中国GDP前十省市\n",
    "data = pd.read_excel('../数据探索/实验数据/中国城市GDP.xls',header=0,index_col=0)\n",
    "data10 = data.head(10)\n",
    "plt.bar(data10['城市'],data10['GDP(亿元)'])\n",
    "plt.show()"
   ]
  },
  {
   "cell_type": "code",
   "execution_count": 12,
   "metadata": {},
   "outputs": [
    {
     "ename": "NameError",
     "evalue": "name 'FontProperties' is not defined",
     "output_type": "error",
     "traceback": [
      "\u001b[1;31m---------------------------------------------------------------------------\u001b[0m",
      "\u001b[1;31mNameError\u001b[0m                                 Traceback (most recent call last)",
      "\u001b[1;32m<ipython-input-12-48e0a1f73f25>\u001b[0m in \u001b[0;36m<module>\u001b[1;34m\u001b[0m\n\u001b[0;32m      1\u001b[0m \u001b[1;31m#中国各省市房价数据统计\u001b[0m\u001b[1;33m\u001b[0m\u001b[1;33m\u001b[0m\u001b[1;33m\u001b[0m\u001b[0m\n\u001b[0;32m      2\u001b[0m \u001b[0mdata\u001b[0m \u001b[1;33m=\u001b[0m \u001b[0mpd\u001b[0m\u001b[1;33m.\u001b[0m\u001b[0mread_excel\u001b[0m\u001b[1;33m(\u001b[0m\u001b[1;34m'../数据探索/实验数据/中国房地产统计数据.xls'\u001b[0m\u001b[1;33m)\u001b[0m\u001b[1;33m\u001b[0m\u001b[1;33m\u001b[0m\u001b[0m\n\u001b[1;32m----> 3\u001b[1;33m \u001b[0mmy_font\u001b[0m \u001b[1;33m=\u001b[0m \u001b[0mFontProperties\u001b[0m\u001b[1;33m(\u001b[0m\u001b[0mfname\u001b[0m\u001b[1;33m=\u001b[0m\u001b[1;34mr\"C:\\Windows\\Fonts\\simsun.ttc\"\u001b[0m\u001b[1;33m,\u001b[0m \u001b[0msize\u001b[0m\u001b[1;33m=\u001b[0m\u001b[1;36m14\u001b[0m\u001b[1;33m)\u001b[0m\u001b[1;33m\u001b[0m\u001b[1;33m\u001b[0m\u001b[0m\n\u001b[0m\u001b[0;32m      4\u001b[0m \u001b[1;33m\u001b[0m\u001b[0m\n\u001b[0;32m      5\u001b[0m \u001b[0mplt\u001b[0m\u001b[1;33m.\u001b[0m\u001b[0mfigure\u001b[0m\u001b[1;33m(\u001b[0m\u001b[0mfigsize\u001b[0m\u001b[1;33m=\u001b[0m\u001b[1;33m(\u001b[0m\u001b[1;36m20\u001b[0m\u001b[1;33m,\u001b[0m\u001b[1;36m15\u001b[0m\u001b[1;33m)\u001b[0m\u001b[1;33m,\u001b[0m\u001b[0mdpi\u001b[0m\u001b[1;33m=\u001b[0m\u001b[1;36m80\u001b[0m\u001b[1;33m)\u001b[0m\u001b[1;33m\u001b[0m\u001b[1;33m\u001b[0m\u001b[0m\n",
      "\u001b[1;31mNameError\u001b[0m: name 'FontProperties' is not defined"
     ]
    }
   ],
   "source": [
    "#中国各省市房价数据统计\n",
    "data = pd.read_excel('../数据探索/实验数据/中国房地产统计数据.xls')\n",
    "my_font = FontProperties(fname=r\"C:\\Windows\\Fonts\\simsun.ttc\", size=14)\n",
    "\n",
    "plt.figure(figsize=(20,15),dpi=80)\n",
    "plt.bar(data['省份'],data['2014'])\n",
    "plt.xticks(data['省份'],data['省份'])\n",
    "plt.title(\"2014年不同省份的房价\")\n",
    "plt.show()"
   ]
  },
  {
   "cell_type": "code",
   "execution_count": null,
   "metadata": {},
   "outputs": [],
   "source": [
    "# 4.强度相对数与动态相对数\n",
    "# 人均粮食与人均GDP\n",
    "data = pd.read_excel('../数据探索/实验数据/人均GDP粮食数据.xls',header=0,index_col=0)\n",
    "\n",
    "data['人均粮食（公斤）'] = (data['粮食总产（万吨）']/data['人口总数（万）'])*2000\n",
    "data['人均GDP'] = (data['年国内生产总值（GDP) 亿人民币元']/data['人口总数（万）'])*10000\n",
    "\n",
    "fig,ax1=plt.subplots()\n",
    "\n",
    "ax1.plot(data['人均粮食（公斤）'],color='b',label='人均粮食（公斤）')\n",
    "ax1.set_xlabel('年份')\n",
    "ax1.set_ylabel('人均粮食（公斤）')\n",
    "ax1.legend(loc='upper left')\n",
    "\n",
    "ax2=ax1.twinx()\n",
    "ax2.plot(data['人均GDP'],color='r',label='人均GDP')\n",
    "ax2.set_ylabel('人均GDP')\n",
    "ax2.legend(loc='upper right')\n",
    "\n",
    "plt.show()"
   ]
  },
  {
   "cell_type": "code",
   "execution_count": null,
   "metadata": {},
   "outputs": [],
   "source": [
    "# 三、统计量分析\n",
    "\n",
    "\n"
   ]
  },
  {
   "cell_type": "code",
   "execution_count": 13,
   "metadata": {},
   "outputs": [
    {
     "name": "stdout",
     "output_type": "stream",
     "text": [
      "41\n",
      "ModeResult(mode=array([41], dtype=int64), count=array([12]))\n",
      "41\n"
     ]
    }
   ],
   "source": [
    "# 1.鞋子码数判断(离散变量计算众数)\n",
    "data = pd.read_excel('../数据探索/实验数据/鞋码统计表.xlsx',header=0,index_col=0)\n",
    "\n",
    "# 方法一\n",
    "counts = np.bincount(data['鞋码'])\n",
    "print(np.argmax(counts))\n",
    "\n",
    "# 方法二\n",
    "from scipy import stats\n",
    "print(stats.mode(data['鞋码']))\n",
    "print(stats.mode(data['鞋码'])[0][0])"
   ]
  },
  {
   "cell_type": "code",
   "execution_count": 14,
   "metadata": {},
   "outputs": [
    {
     "name": "stdout",
     "output_type": "stream",
     "text": [
      "x    1.509967\n",
      "y    2.107131\n",
      "z    2.705550\n",
      "dtype: float64\n",
      "\n",
      "x    1.2540\n",
      "y    1.2375\n",
      "z    1.2155\n",
      "dtype: float64\n"
     ]
    }
   ],
   "source": [
    "# 2.股票判断，X，Y，Z三只股票遇到牛市，正常市，熊市概率相等，预测那只股票更赚钱\n",
    "x = [20,10,-5]\n",
    "y = [25,10,-10]\n",
    "z = [30,10,-15]\n",
    "\n",
    "data = pd.DataFrame({'x':x,'y':y,'z':z})\n",
    "stat = data.describe()\n",
    "print(stat.loc['std']/stat.loc['mean']) #变异系数,中位数除以平均数算变异系数\n",
    "print()\n",
    "print((1+data/100).prod()) #X，Y，Z三只股票赚钱倍数"
   ]
  },
  {
   "cell_type": "code",
   "execution_count": 15,
   "metadata": {},
   "outputs": [],
   "source": [
    "# 四、周期性分析\n",
    "\n",
    "\n"
   ]
  },
  {
   "cell_type": "code",
   "execution_count": 16,
   "metadata": {},
   "outputs": [],
   "source": [
    "#某城市气温在一段时间内变化(不写代码)"
   ]
  },
  {
   "cell_type": "code",
   "execution_count": 17,
   "metadata": {},
   "outputs": [],
   "source": [
    "# 五、贡献度分析\n",
    "\n",
    "\n"
   ]
  },
  {
   "cell_type": "code",
   "execution_count": 18,
   "metadata": {},
   "outputs": [
    {
     "data": {
      "image/png": "[encoded data removed]",
      "text/plain": [
       "<Figure size 432x288 with 2 Axes>"
      ]
     },
     "metadata": {
      "needs_background": "light"
     },
     "output_type": "display_data"
    }
   ],
   "source": [
    "# 帕累托图(二八定律)\n",
    "data = pd.read_excel('../数据探索/实验数据/catering_dish_profit.xls',header=0,index_col=0)\n",
    "\n",
    "#简便写法:data['盈利'].cumsum()/sum(data['盈利'])\n",
    "data['利润占比'] = data['盈利']/sum(data['盈利'])\n",
    "data['累计占比'] = data['利润占比'].cumsum()\n",
    "\n",
    "\n",
    "fig,ax1=plt.subplots()\n",
    "\n",
    "ax1.bar(data['菜品名'],data['盈利'],color='b')\n",
    "ax1.set_xlabel('菜品名')\n",
    "ax1.set_ylabel('盈利（元）')\n",
    "\n",
    "ax2=ax1.twinx()\n",
    "ax2.plot(data['菜品名'],data['累计占比'],color='r')\n",
    "ax2.set_ylabel('盈利（元比例')\n",
    "plt.annotate('85.0033%',xy = (6,0.850033),xytext = (6,0.7),arrowprops={})\n",
    "\n",
    "plt.show()"
   ]
  },
  {
   "cell_type": "code",
   "execution_count": null,
   "metadata": {},
   "outputs": [],
   "source": []
  }
 ],
 "metadata": {
  "kernelspec": {
   "display_name": "Python 3",
   "language": "python",
   "name": "python3"
  },
  "language_info": {
   "codemirror_mode": {
    "name": "ipython",
    "version": 3
   },
   "file_extension": ".py",
   "mimetype": "text/x-python",
   "name": "python",
   "nbconvert_exporter": "python",
   "pygments_lexer": "ipython3",
   "version": "3.7.3"
  }
 },
 "nbformat": 4,
 "nbformat_minor": 2
}
