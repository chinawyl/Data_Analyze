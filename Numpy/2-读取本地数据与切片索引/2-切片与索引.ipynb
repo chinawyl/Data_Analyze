{
 "cells": [
  {
   "cell_type": "code",
   "execution_count": 1,
   "metadata": {},
   "outputs": [],
   "source": [
    "import numpy as np"
   ]
  },
  {
   "cell_type": "code",
   "execution_count": 2,
   "metadata": {},
   "outputs": [],
   "source": [
    "#本地数据读取\n",
    "us_file_path = \"./youtube_video_data/US_video_data_numbers.csv\"\n",
    "\n",
    "uk_file_path = \"./youtube_video_data/GB_video_data_numbers.csv\""
   ]
  },
  {
   "cell_type": "code",
   "execution_count": 3,
   "metadata": {},
   "outputs": [],
   "source": [
    "t1 = np.loadtxt(us_file_path,delimiter=\",\",dtype=\"int\",unpack=True)\n",
    "\n",
    "t2 = np.loadtxt(us_file_path,delimiter=\",\",dtype=\"int\")"
   ]
  },
  {
   "cell_type": "code",
   "execution_count": 4,
   "metadata": {},
   "outputs": [
    {
     "data": {
      "text/plain": [
       "array([[4394029,  320053,    5931,   46245],\n",
       "       [7860119,  185853,   26679,       0],\n",
       "       [5845909,  576597,   39774,  170708],\n",
       "       ...,\n",
       "       [ 142463,    4231,     148,     279],\n",
       "       [2162240,   41032,    1384,    4737],\n",
       "       [ 515000,   34727,     195,    4722]])"
      ]
     },
     "execution_count": 4,
     "metadata": {},
     "output_type": "execute_result"
    }
   ],
   "source": [
    "t2"
   ]
  },
  {
   "cell_type": "code",
   "execution_count": 5,
   "metadata": {},
   "outputs": [],
   "source": [
    "#切片\n",
    "\n",
    "\n",
    "\n",
    "\n"
   ]
  },
  {
   "cell_type": "code",
   "execution_count": 6,
   "metadata": {},
   "outputs": [],
   "source": [
    "a = np.arange(10)"
   ]
  },
  {
   "cell_type": "code",
   "execution_count": 7,
   "metadata": {},
   "outputs": [
    {
     "data": {
      "text/plain": [
       "array([2, 4, 6, 8])"
      ]
     },
     "execution_count": 7,
     "metadata": {},
     "output_type": "execute_result"
    }
   ],
   "source": [
    "a[slice(2,9,2)]"
   ]
  },
  {
   "cell_type": "code",
   "execution_count": 8,
   "metadata": {},
   "outputs": [
    {
     "data": {
      "text/plain": [
       "array([2, 5])"
      ]
     },
     "execution_count": 8,
     "metadata": {},
     "output_type": "execute_result"
    }
   ],
   "source": [
    "a[range(2,7,3)]"
   ]
  },
  {
   "cell_type": "code",
   "execution_count": 9,
   "metadata": {},
   "outputs": [],
   "source": [
    "#索引\n",
    "\n",
    "\n",
    "\n",
    "\n"
   ]
  },
  {
   "cell_type": "code",
   "execution_count": 10,
   "metadata": {},
   "outputs": [
    {
     "data": {
      "text/plain": [
       "array([5845909,  576597,   39774,  170708])"
      ]
     },
     "execution_count": 10,
     "metadata": {},
     "output_type": "execute_result"
    }
   ],
   "source": [
    "#取单行(从0开始)\n",
    "t2[2] #第3行"
   ]
  },
  {
   "cell_type": "code",
   "execution_count": 11,
   "metadata": {},
   "outputs": [
    {
     "data": {
      "text/plain": [
       "array([[4394029,  320053,    5931,   46245],\n",
       "       [7860119,  185853,   26679,       0],\n",
       "       [5845909,  576597,   39774,  170708]])"
      ]
     },
     "execution_count": 11,
     "metadata": {},
     "output_type": "execute_result"
    }
   ],
   "source": [
    "#取连续的多行(从0开始，左闭右开)\n",
    "t2[:3] #第1,2,3行"
   ]
  },
  {
   "cell_type": "code",
   "execution_count": 12,
   "metadata": {},
   "outputs": [
    {
     "data": {
      "text/plain": [
       "array([[5845909,  576597,   39774,  170708],\n",
       "       [1338533,   69687,     678,    5643],\n",
       "       [ 859289,   34485,     726,    1914]])"
      ]
     },
     "execution_count": 12,
     "metadata": {},
     "output_type": "execute_result"
    }
   ],
   "source": [
    "#取不连续的多行(从0开始)\n",
    "t2[[2,8,10]] #第3,9,11行"
   ]
  },
  {
   "cell_type": "code",
   "execution_count": 13,
   "metadata": {},
   "outputs": [
    {
     "data": {
      "text/plain": [
       "array([[4394029,  320053,    5931,   46245],\n",
       "       [7860119,  185853,   26679,       0],\n",
       "       [5845909,  576597,   39774,  170708],\n",
       "       ...,\n",
       "       [ 142463,    4231,     148,     279],\n",
       "       [2162240,   41032,    1384,    4737],\n",
       "       [ 515000,   34727,     195,    4722]])"
      ]
     },
     "execution_count": 13,
     "metadata": {},
     "output_type": "execute_result"
    }
   ],
   "source": [
    "t2"
   ]
  },
  {
   "cell_type": "code",
   "execution_count": 14,
   "metadata": {},
   "outputs": [
    {
     "data": {
      "text/plain": [
       "array([ 5931, 26679, 39774, ...,   148,  1384,   195])"
      ]
     },
     "execution_count": 14,
     "metadata": {},
     "output_type": "execute_result"
    }
   ],
   "source": [
    "#取单列\n",
    "t2[:,2] #第3列"
   ]
  },
  {
   "cell_type": "code",
   "execution_count": 15,
   "metadata": {},
   "outputs": [
    {
     "data": {
      "text/plain": [
       "array([[320053,   5931],\n",
       "       [185853,  26679],\n",
       "       [576597,  39774],\n",
       "       ...,\n",
       "       [  4231,    148],\n",
       "       [ 41032,   1384],\n",
       "       [ 34727,    195]])"
      ]
     },
     "execution_count": 15,
     "metadata": {},
     "output_type": "execute_result"
    }
   ],
   "source": [
    "#取连续的多列(从0开始，左闭右开)\n",
    "t2[:,1:3] #第2,3列"
   ]
  },
  {
   "cell_type": "code",
   "execution_count": 16,
   "metadata": {},
   "outputs": [
    {
     "data": {
      "text/plain": [
       "array([[4394029,    5931],\n",
       "       [7860119,   26679],\n",
       "       [5845909,   39774],\n",
       "       ...,\n",
       "       [ 142463,     148],\n",
       "       [2162240,    1384],\n",
       "       [ 515000,     195]])"
      ]
     },
     "execution_count": 16,
     "metadata": {},
     "output_type": "execute_result"
    }
   ],
   "source": [
    "#取不连续的多列(从0开始)\n",
    "t2[:,[0,2]] #第1,3列"
   ]
  },
  {
   "cell_type": "code",
   "execution_count": 17,
   "metadata": {},
   "outputs": [
    {
     "data": {
      "text/plain": [
       "array([[4394029,  320053,    5931,   46245],\n",
       "       [7860119,  185853,   26679,       0],\n",
       "       [5845909,  576597,   39774,  170708],\n",
       "       ...,\n",
       "       [ 142463,    4231,     148,     279],\n",
       "       [2162240,   41032,    1384,    4737],\n",
       "       [ 515000,   34727,     195,    4722]])"
      ]
     },
     "execution_count": 17,
     "metadata": {},
     "output_type": "execute_result"
    }
   ],
   "source": [
    "t2"
   ]
  },
  {
   "cell_type": "code",
   "execution_count": 18,
   "metadata": {},
   "outputs": [
    {
     "data": {
      "text/plain": [
       "170708"
      ]
     },
     "execution_count": 18,
     "metadata": {},
     "output_type": "execute_result"
    }
   ],
   "source": [
    "#取多行多列\n",
    "t2[2,3] #取第3行，第4列的值"
   ]
  },
  {
   "cell_type": "code",
   "execution_count": 19,
   "metadata": {},
   "outputs": [
    {
     "data": {
      "text/plain": [
       "numpy.int32"
      ]
     },
     "execution_count": 19,
     "metadata": {},
     "output_type": "execute_result"
    }
   ],
   "source": [
    "type(t2[2,3]) #注意数据类型"
   ]
  },
  {
   "cell_type": "code",
   "execution_count": 20,
   "metadata": {},
   "outputs": [
    {
     "data": {
      "text/plain": [
       "array([[576597,  39774, 170708],\n",
       "       [ 24975,   4542,  12829],\n",
       "       [ 96666,    568,   6666]])"
      ]
     },
     "execution_count": 20,
     "metadata": {},
     "output_type": "execute_result"
    }
   ],
   "source": [
    "#取第3行到第5行，第2列到第4列\n",
    "#取得行和列的交叉点位置\n",
    "t2[2:5,1:4]"
   ]
  },
  {
   "cell_type": "code",
   "execution_count": 21,
   "metadata": {},
   "outputs": [
    {
     "data": {
      "text/plain": [
       "array([4394029,  576597])"
      ]
     },
     "execution_count": 21,
     "metadata": {},
     "output_type": "execute_result"
    }
   ],
   "source": [
    "#取第1行和第3行，第1列和第2列\n",
    "#取多个不相邻的点\n",
    "t2[[0,2],[0,1]] #(0,0)和(2,1)"
   ]
  },
  {
   "cell_type": "code",
   "execution_count": 22,
   "metadata": {},
   "outputs": [
    {
     "name": "stdout",
     "output_type": "stream",
     "text": [
      "[[ 0  1  2  3]\n",
      " [ 4  5  6  7]\n",
      " [ 8  9 10 11]\n",
      " [12 13 14 15]\n",
      " [16 17 18 19]\n",
      " [20 21 22 23]\n",
      " [24 25 26 27]\n",
      " [28 29 30 31]]\n",
      "\n",
      "[[ 4  7  5  6]\n",
      " [20 23 21 22]\n",
      " [28 31 29 30]\n",
      " [ 8 11  9 10]]\n"
     ]
    }
   ],
   "source": [
    "#花式索引\n",
    "x = np.arange(32).reshape(8,4)\n",
    "print(x)\n",
    "print()\n",
    "print(x[np.ix_([1,5,7,2],[0,3,1,2])]) #行列顺序打乱"
   ]
  },
  {
   "cell_type": "code",
   "execution_count": 23,
   "metadata": {},
   "outputs": [],
   "source": [
    "#数值修改与布尔索引\n",
    "\n",
    "\n",
    "\n",
    "\n"
   ]
  },
  {
   "cell_type": "code",
   "execution_count": 24,
   "metadata": {},
   "outputs": [
    {
     "data": {
      "text/plain": [
       "array([[4394029, 7860119, 5845909, ...,  142463, 2162240,  515000],\n",
       "       [ 320053,  185853,  576597, ...,    4231,   41032,   34727],\n",
       "       [   5931,   26679,   39774, ...,     148,    1384,     195],\n",
       "       [  46245,       0,  170708, ...,     279,    4737,    4722]])"
      ]
     },
     "execution_count": 24,
     "metadata": {},
     "output_type": "execute_result"
    }
   ],
   "source": [
    "t1"
   ]
  },
  {
   "cell_type": "code",
   "execution_count": 25,
   "metadata": {},
   "outputs": [],
   "source": [
    "#修改第1行第2列的值为0(0,1)\n",
    "t1[0,1] = 0"
   ]
  },
  {
   "cell_type": "code",
   "execution_count": 26,
   "metadata": {},
   "outputs": [],
   "source": [
    "#将t1中小于10的值修改为3\n",
    "t1[t1<10]=3"
   ]
  },
  {
   "cell_type": "code",
   "execution_count": 27,
   "metadata": {},
   "outputs": [
    {
     "data": {
      "text/plain": [
       "array([[4394029,       3, 5845909, ...,  142463, 2162240,  515000],\n",
       "       [ 320053,  185853,  576597, ...,    4231,   41032,   34727],\n",
       "       [   5931,   26679,   39774, ...,     148,    1384,     195],\n",
       "       [  46245,       3,  170708, ...,     279,    4737,    4722]])"
      ]
     },
     "execution_count": 27,
     "metadata": {},
     "output_type": "execute_result"
    }
   ],
   "source": [
    "t1"
   ]
  },
  {
   "cell_type": "code",
   "execution_count": 28,
   "metadata": {},
   "outputs": [
    {
     "data": {
      "text/plain": [
       "array([[1, 0, 1, ..., 1, 1, 1],\n",
       "       [1, 1, 1, ..., 1, 1, 1],\n",
       "       [1, 1, 1, ..., 1, 1, 1],\n",
       "       [1, 0, 1, ..., 1, 1, 1]])"
      ]
     },
     "execution_count": 28,
     "metadata": {},
     "output_type": "execute_result"
    }
   ],
   "source": [
    "#将t1中小于等于10的值修改为0，大于10的值修改为1\n",
    "np.where(t1<=10,0,1)"
   ]
  },
  {
   "cell_type": "code",
   "execution_count": 29,
   "metadata": {},
   "outputs": [
    {
     "data": {
      "text/plain": [
       "array([[20, 10, 20, ..., 20, 20, 20],\n",
       "       [20, 20, 20, ..., 20, 20, 20],\n",
       "       [20, 20, 20, ..., 20, 20, 20],\n",
       "       [20, 10, 20, ..., 20, 20, 20]])"
      ]
     },
     "execution_count": 29,
     "metadata": {},
     "output_type": "execute_result"
    }
   ],
   "source": [
    "#将t1中小于10的数字替换为10，把大于20的替换为20，大于10小于20的数不变\n",
    "t1.clip(10,20) #包不包含10或20无所谓"
   ]
  },
  {
   "cell_type": "code",
   "execution_count": null,
   "metadata": {},
   "outputs": [],
   "source": []
  }
 ],
 "metadata": {
  "kernelspec": {
   "display_name": "Python 3",
   "language": "python",
   "name": "python3"
  },
  "language_info": {
   "codemirror_mode": {
    "name": "ipython",
    "version": 3
   },
   "file_extension": ".py",
   "mimetype": "text/x-python",
   "name": "python",
   "nbconvert_exporter": "python",
   "pygments_lexer": "ipython3",
   "version": "3.7.3"
  }
 },
 "nbformat": 4,
 "nbformat_minor": 2
}
