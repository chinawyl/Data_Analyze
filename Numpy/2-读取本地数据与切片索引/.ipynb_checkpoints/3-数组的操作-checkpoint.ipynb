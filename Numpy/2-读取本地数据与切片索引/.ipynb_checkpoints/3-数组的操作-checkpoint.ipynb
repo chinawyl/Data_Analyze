{
 "cells": [
  {
   "cell_type": "code",
   "execution_count": 1,
   "metadata": {},
   "outputs": [],
   "source": [
    "import numpy as np"
   ]
  },
  {
   "cell_type": "code",
   "execution_count": 4,
   "metadata": {},
   "outputs": [
    {
     "name": "stdout",
     "output_type": "stream",
     "text": [
      "[[0 1 2]\n",
      " [3 4 5]\n",
      " [6 7 8]]\n",
      "\n",
      "0\n",
      "1\n",
      "2\n",
      "3\n",
      "4\n",
      "5\n",
      "6\n",
      "7\n",
      "8\n",
      "\n",
      "[[0 1 2]\n",
      " [3 4 5]\n",
      " [6 7 8]]\n"
     ]
    }
   ],
   "source": [
    "#数组的元素迭代:flat\n",
    "a = np.arange(9).reshape(3,3)\n",
    "print(a)\n",
    "print()\n",
    "for i in a.flat:\n",
    "    print(i)\n",
    "print()\n",
    "print(a)"
   ]
  },
  {
   "cell_type": "code",
   "execution_count": 7,
   "metadata": {},
   "outputs": [
    {
     "name": "stdout",
     "output_type": "stream",
     "text": [
      "[[ 0  1  2  3]\n",
      " [ 4  5  6  7]\n",
      " [ 8  9 10 11]\n",
      " [12 13 14 15]]\n",
      "\n",
      "[ 0  1  2  3  4  5  6  7  8  9 10 11 12 13 14 15]\n"
     ]
    }
   ],
   "source": [
    "#数组的元素展平:flatten，返回数组拷贝，对拷贝的修改不会影响原数组\n",
    "b = np.arange(16).reshape(4,4)\n",
    "print(b)\n",
    "print()\n",
    "print(b.flatten())"
   ]
  },
  {
   "cell_type": "code",
   "execution_count": 8,
   "metadata": {},
   "outputs": [
    {
     "name": "stdout",
     "output_type": "stream",
     "text": [
      "[[ 0  1  2  3  4  5]\n",
      " [ 6  7  8  9 10 11]\n",
      " [12 13 14 15 16 17]\n",
      " [18 19 20 21 22 23]]\n",
      "\n",
      "[ 0  1  2  3  4  5  6  7  8  9 10 11 12 13 14 15 16 17 18 19 20 21 22 23]\n"
     ]
    }
   ],
   "source": [
    "#数组的元素展平:ravel，返回数组视图，修改会影响原数组\n",
    "c = np.arange(24).reshape(4,6)\n",
    "print(c)\n",
    "print()\n",
    "print(c.ravel())"
   ]
  },
  {
   "cell_type": "code",
   "execution_count": 10,
   "metadata": {},
   "outputs": [
    {
     "name": "stdout",
     "output_type": "stream",
     "text": [
      "[[1 2 3]\n",
      " [4 5 6]]\n",
      "\n",
      "[[0 1]\n",
      " [2 3]\n",
      " [4 5]]\n"
     ]
    }
   ],
   "source": [
    "#返回指定大小的新数组:resize，如果新数组比原数组大，则将会copy原数组中的值对新数组进行填充\n",
    "x = np.array([[1,2,3],[4,5,6]])\n",
    "print(x)\n",
    "print()\n",
    "y = np.resize(a,(3,2))\n",
    "print(y)"
   ]
  },
  {
   "cell_type": "code",
   "execution_count": 13,
   "metadata": {},
   "outputs": [
    {
     "name": "stdout",
     "output_type": "stream",
     "text": [
      "[[1 2 3]\n",
      " [4 5 6]]\n",
      "\n",
      "[1 2 3 4 5 6 7 8 9]\n",
      "\n",
      "[[1 2 3]\n",
      " [4 5 6]\n",
      " [7 8 9]]\n",
      "\n",
      "[[1 2 3 3 3 3]\n",
      " [4 5 6 7 8 9]]\n"
     ]
    }
   ],
   "source": [
    "#append:给数组末尾添加元素或数组\n",
    "a = np.array([[1,2,3],[4,5,6]])\n",
    "print(a)\n",
    "print()\n",
    "print(np.append(a,[7,8,9]))\n",
    "print()\n",
    "print(np.append(a,[[7,8,9]],axis=0))\n",
    "print()\n",
    "print(np.append(a,[[3,3,3],[7,8,9]],axis=1))"
   ]
  },
  {
   "cell_type": "code",
   "execution_count": 14,
   "metadata": {},
   "outputs": [
    {
     "name": "stdout",
     "output_type": "stream",
     "text": [
      "[[1 2]\n",
      " [3 4]\n",
      " [5 6]]\n",
      "\n",
      "[ 1  2  3 11 12  4  5  6]\n",
      "\n",
      "[[ 1  2]\n",
      " [11 11]\n",
      " [ 3  4]\n",
      " [ 5  6]]\n",
      "\n",
      "[[ 1 11  2]\n",
      " [ 3 11  4]\n",
      " [ 5 11  6]]\n"
     ]
    }
   ],
   "source": [
    "#insert:按照索引添加元素\n",
    "b = np.array([[1,2],[3,4],[5,6]])\n",
    "print(b)\n",
    "print()\n",
    "print(np.insert(b,3,[11,12]))\n",
    "print()\n",
    "print(np.insert(b,1,[11],axis=0)) #沿0轴广播\n",
    "print()\n",
    "print(np.insert(b,1,11,axis=1)) #沿1轴广播"
   ]
  },
  {
   "cell_type": "code",
   "execution_count": 17,
   "metadata": {},
   "outputs": [
    {
     "name": "stdout",
     "output_type": "stream",
     "text": [
      "[[ 0  1  2  3]\n",
      " [ 4  5  6  7]\n",
      " [ 8  9 10 11]]\n",
      "\n",
      "[[ 0  2  3]\n",
      " [ 4  6  7]\n",
      " [ 8 10 11]]\n",
      "\n",
      "[ 0  1  2  3  4  5  6  7  8  9 10 11]\n",
      "\n",
      "[ 1  3  5  7  9 11]\n"
     ]
    }
   ],
   "source": [
    "#delete:删除数组元素\n",
    "c = np.arange(12).reshape(3,4)\n",
    "print(c)\n",
    "print()\n",
    "print(np.delete(c,1,axis=1)) #删除第二列\n",
    "print()\n",
    "d = np.arange(12)\n",
    "print(d)\n",
    "print()\n",
    "print(np.delete(d,np.s_[::2])) #删除元素，变相替换切片"
   ]
  },
  {
   "cell_type": "code",
   "execution_count": 20,
   "metadata": {},
   "outputs": [
    {
     "name": "stdout",
     "output_type": "stream",
     "text": [
      "[ 2  3  2  5  6  3  5  7 11  2  5  9  8  8  6  5]\n",
      "\n",
      "[ 2  3  5  6  7  8  9 11]\n",
      "\n",
      "[ 2  3  2  5  6  3  5  7 11  2  5  9  8  8  6  5]\n",
      "\n",
      "(array([ 2,  3,  5,  6,  7,  8,  9, 11]), array([ 0,  1,  3,  4,  7, 12, 11,  8], dtype=int64))\n",
      "\n",
      "[ 2  3  5  6  7  8  9 11]\n",
      "[0 1 0 2 3 1 2 4 7 0 2 6 5 5 3 2]\n"
     ]
    }
   ],
   "source": [
    "#unique:去重元素\n",
    "a = np.array([2,3,2,5,6,3,5,7,11,2,5,9,8,8,6,5])\n",
    "print(a)\n",
    "print()\n",
    "print(np.unique(a))\n",
    "print()\n",
    "print(a) #不改变原数组\n",
    "print()\n",
    "print(np.unique(a,return_index=True)) #返回去重后的数组，被去重的元素在就数组的索引\n",
    "print()\n",
    "value,old_index = np.unique(a,return_inverse=True)\n",
    "print(value)\n",
    "print(old_index) #返回旧列表元素在新列表中的位置，并以列表形式储存"
   ]
  },
  {
   "cell_type": "code",
   "execution_count": null,
   "metadata": {},
   "outputs": [],
   "source": []
  }
 ],
 "metadata": {
  "kernelspec": {
   "display_name": "Python 3",
   "language": "python",
   "name": "python3"
  },
  "language_info": {
   "codemirror_mode": {
    "name": "ipython",
    "version": 3
   },
   "file_extension": ".py",
   "mimetype": "text/x-python",
   "name": "python",
   "nbconvert_exporter": "python",
   "pygments_lexer": "ipython3",
   "version": "3.7.3"
  }
 },
 "nbformat": 4,
 "nbformat_minor": 2
}
